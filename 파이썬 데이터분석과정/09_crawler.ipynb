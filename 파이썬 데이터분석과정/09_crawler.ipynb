{
 "cells": [
  {
   "cell_type": "markdown",
   "metadata": {
    "id": "UsZSmAj47LXm",
    "slideshow": {
     "slide_type": "slide"
    }
   },
   "source": [
    "# **데이터 크롤링**"
   ]
  },
  {
   "cell_type": "markdown",
   "metadata": {
    "id": "qGMeSCoV7QTQ",
    "slideshow": {
     "slide_type": "slide"
    }
   },
   "source": [
    "## **1. 크롤링이란?**\n",
    "    크롤러(crawler)는 자동화된 방법으로 웹을 탐색하는 컴퓨터 프로그램\n",
    "\n",
    "    '웹 크롤링'(web crawling)??\n",
    "    \n",
    "    '데이터 크롤링'(data crawling)!!"
   ]
  },
  {
   "cell_type": "markdown",
   "metadata": {
    "id": "WboqZ6A47Yqe",
    "slideshow": {
     "slide_type": "slide"
    }
   },
   "source": [
    "    우리는 매일 크롤러도 사용하고 있습니다."
   ]
  },
  {
   "cell_type": "markdown",
   "metadata": {
    "id": "5PfW0HG17td5",
    "slideshow": {
     "slide_type": "slide"
    }
   },
   "source": [
    "## **2. 웹 크롤링**\n",
    "    웹 서비스 내 정보를 수집하는 일\n",
    "    \n",
    "    필요한 정보가 있다면?\n",
    "    API 확인 -> 없으면 직접 크롤링\n",
    "    \n",
    "    다만 서비스 제공자의 입장에서는??"
   ]
  },
  {
   "cell_type": "markdown",
   "metadata": {
    "id": "e0ITGMAN70Da",
    "slideshow": {
     "slide_type": "slide"
    }
   },
   "source": [
    "### 웹 서핑을 하는 의식의 흐름\n",
    "    브라우저 오픈\n",
    "    원하는 인터넷페이지 주소 입력\n",
    "    화면이 열리면 찾고자 하는 정보를 스크롤 하면서 찾기\n",
    "    문자, 그림, 동영상 조회"
   ]
  },
  {
   "cell_type": "markdown",
   "metadata": {
    "id": "AWcggzcG728P",
    "slideshow": {
     "slide_type": "slide"
    }
   },
   "source": [
    "### 웹 크롤링 하는 의식의 흐름\n",
    "    정보를 가져오고자 하는 url 정의\n",
    "    url 정보로 requests로 정보 요청\n",
    "    text 정보를 html로 변환\n",
    "    html에서 우리가 필요한 정보만 선별"
   ]
  },
  {
   "cell_type": "markdown",
   "metadata": {
    "id": "XT464CpR75Uh",
    "slideshow": {
     "slide_type": "slide"
    }
   },
   "source": [
    "### 웹 크롤링을 위해 BeautifulSoup 사용\n",
    "    requests는 요청을 받기는 하지만 text로만 받음\n",
    "    API는 통신을 위해 정형화 된 데이터 형태의 text\n",
    "    우리가 원하는 데이터로 가공하기 위해 편의상 html로 변환\n",
    "    text를 html로 변환하는 모듈이 beautifulSoup"
   ]
  },
  {
   "cell_type": "markdown",
   "metadata": {
    "id": "5j1oR5fO78FW",
    "slideshow": {
     "slide_type": "slide"
    }
   },
   "source": [
    "### 간단한 데이터 크롤링으로 기본 개념잡기"
   ]
  },
  {
   "cell_type": "code",
   "execution_count": 1,
   "metadata": {
    "ExecuteTime": {
     "end_time": "2021-02-03T02:35:06.532637Z",
     "start_time": "2021-02-03T02:35:06.312281Z"
    }
   },
   "outputs": [
    {
     "data": {
      "text/plain": [
       "[<img alt=\"\" height=\"49\" src=\"https://static-whale.pstatic.net/main/img_darkmode@2x.png\" style=\"padding-left: 48px;\" width=\"303\"/>,\n",
       " <img alt=\"아시아경제\" class=\"news_logo\" height=\"20\" src=\"https://s.pstatic.net/static/newsstand/2020/logo/light/0604/277.png\"/>,\n",
       " <img alt=\"MBN\" class=\"news_logo\" height=\"20\" src=\"https://s.pstatic.net/static/newsstand/2020/logo/light/0604/057.png\"/>,\n",
       " <img alt=\"KBS\" class=\"news_logo\" height=\"20\" src=\"https://s.pstatic.net/static/newsstand/2020/logo/light/0604/056.png\"/>,\n",
       " <img alt=\"JTBC\" class=\"news_logo\" height=\"20\" src=\"https://s.pstatic.net/static/newsstand/2020/logo/light/0604/904.png\"/>,\n",
       " <img alt=\"한국경제TV\" class=\"news_logo\" height=\"20\" src=\"https://s.pstatic.net/static/newsstand/2020/logo/light/0604/215.png\"/>,\n",
       " <img alt=\"시사인\" class=\"news_logo\" height=\"20\" src=\"https://s.pstatic.net/static/newsstand/2020/logo/light/0604/308.png\"/>,\n",
       " <img alt=\"동아일보\" class=\"news_logo\" height=\"20\" src=\"https://s.pstatic.net/static/newsstand/2020/logo/light/0604/020.png\"/>,\n",
       " <img alt=\"한겨레\" class=\"news_logo\" height=\"20\" src=\"https://s.pstatic.net/static/newsstand/2020/logo/light/0604/028.png\"/>,\n",
       " <img alt=\"머니투데이\" class=\"news_logo\" height=\"20\" src=\"https://s.pstatic.net/static/newsstand/2020/logo/light/0604/008.png\"/>,\n",
       " <img alt=\"서울경제\" class=\"news_logo\" height=\"20\" src=\"https://s.pstatic.net/static/newsstand/2020/logo/light/0604/011.png\"/>,\n",
       " <img alt=\"일간스포츠\" class=\"news_logo\" height=\"20\" src=\"https://s.pstatic.net/static/newsstand/2020/logo/light/0604/241.png\"/>,\n",
       " <img alt=\"중앙일보\" class=\"news_logo\" height=\"20\" src=\"https://s.pstatic.net/static/newsstand/2020/logo/light/0604/025.png\"/>,\n",
       " <img alt=\"마이데일리\" class=\"news_logo\" height=\"20\" src=\"https://s.pstatic.net/static/newsstand/2020/logo/light/0604/117.png\"/>,\n",
       " <img alt=\"뉴스타파\" class=\"news_logo\" height=\"20\" src=\"https://s.pstatic.net/static/newsstand/2020/logo/light/0604/930.png\"/>,\n",
       " <img alt=\"세계일보\" class=\"news_logo\" height=\"20\" src=\"https://s.pstatic.net/static/newsstand/2020/logo/light/0604/022.png\"/>,\n",
       " <img alt=\"비즈니스포스트\" class=\"news_logo\" height=\"20\" src=\"https://s.pstatic.net/static/newsstand/2020/logo/light/0604/942.png\"/>,\n",
       " <img alt=\"TV조선\" class=\"news_logo\" height=\"20\" src=\"https://s.pstatic.net/static/newsstand/2020/logo/light/0604/902.png\"/>,\n",
       " <img alt=\"투데이신문\" class=\"news_logo\" height=\"20\" src=\"https://s.pstatic.net/static/newsstand/up/2020/1019/nsd144531857.png\"/>,\n",
       " <img alt=\"농민신문\" class=\"news_logo\" height=\"20\" src=\"https://s.pstatic.net/static/newsstand/2020/logo/light/0604/911.png\"/>,\n",
       " <img alt=\"쿠키뉴스\" class=\"news_logo\" height=\"20\" src=\"https://s.pstatic.net/static/newsstand/2020/logo/light/0604/143.png\"/>,\n",
       " <img alt=\"미주한국일보\" class=\"news_logo\" height=\"20\" src=\"https://s.pstatic.net/static/newsstand/2020/logo/light/0604/814.png\"/>,\n",
       " <img alt=\"미디어SR\" class=\"news_logo\" height=\"20\" src=\"https://s.pstatic.net/static/newsstand/2020/logo/light/0604/812.png\"/>,\n",
       " <img alt=\"일요신문\" class=\"news_logo\" height=\"20\" src=\"https://s.pstatic.net/static/newsstand/2020/logo/light/0604/925.png\"/>,\n",
       " <img alt=\"여성신문\" class=\"news_logo\" height=\"20\" src=\"https://s.pstatic.net/static/newsstand/2020/logo/light/0604/310.png\"/>,\n",
       " <img alt=\"100개 이상 써본 듯? 기은세가 픽한 고데기 TOP 3\" data-src=\"https://s.pstatic.net/static/www/mobile/edit/2021/0208/mobile_16184523187.jpg\" height=\"180\" src=\"https://s.pstatic.net/static/www/mobile/edit/2021/0208/mobile_16184523187.jpg\" width=\"364\"/>,\n",
       " <img alt=\"기본템으로 스니커즈 코디 상큼하게 하는 방법😎\" data-src=\"https://s.pstatic.net/static/www/mobile/edit/2021/0208/mobile_162057570494.jpg\" height=\"180\" src=\"https://s.pstatic.net/static/www/mobile/edit/2021/0208/mobile_162057570494.jpg\" width=\"364\"/>,\n",
       " <img alt=\"로제 가방 어디 거야? 스타들의 명품 백 브랜드\" data-src=\"https://s.pstatic.net/dthumb.phinf/?src=%22https%3A%2F%2Fs.pstatic.net%2Fstatic%2Fwww%2Fmobile%2Fedit%2F2021%2F0204%2Fupload_161240714895992qTb.jpg%22&amp;type=nf340_228\" height=\"114\" src=\"https://s.pstatic.net/dthumb.phinf/?src=%22https%3A%2F%2Fs.pstatic.net%2Fstatic%2Fwww%2Fmobile%2Fedit%2F2021%2F0204%2Fupload_161240714895992qTb.jpg%22&amp;type=nf340_228\" width=\"170\"/>,\n",
       " <img alt=\"진짜 이게 유행이라고? 2021 S/S 패션 트렌드 3\" data-src=\"https://s.pstatic.net/dthumb.phinf/?src=%22https%3A%2F%2Fs.pstatic.net%2Fstatic%2Fwww%2Fmobile%2Fedit%2F2021%2F0204%2Fupload_1612420892949cGA5t.jpg%22&amp;type=nf340_228\" height=\"114\" src=\"https://s.pstatic.net/dthumb.phinf/?src=%22https%3A%2F%2Fs.pstatic.net%2Fstatic%2Fwww%2Fmobile%2Fedit%2F2021%2F0204%2Fupload_1612420892949cGA5t.jpg%22&amp;type=nf340_228\" width=\"170\"/>,\n",
       " <img alt=\"미리 준비했어, 봄 나들이 갈 때 이렇게 입어봐\" data-src=\"https://s.pstatic.net/dthumb.phinf/?src=%22https%3A%2F%2Fs.pstatic.net%2Fstatic%2Fwww%2Fmobile%2Fedit%2F2021%2F0204%2Fupload_1612420878034vhljP.jpg%22&amp;type=nf340_228\" height=\"114\" src=\"https://s.pstatic.net/dthumb.phinf/?src=%22https%3A%2F%2Fs.pstatic.net%2Fstatic%2Fwww%2Fmobile%2Fedit%2F2021%2F0204%2Fupload_1612420878034vhljP.jpg%22&amp;type=nf340_228\" width=\"170\"/>,\n",
       " <img alt=\"피부에 착붙 '구찌' 파데 전색상, 프라이머 후기\" data-src=\"https://s.pstatic.net/dthumb.phinf/?src=%22https%3A%2F%2Fs.pstatic.net%2Fstatic%2Fwww%2Fmobile%2Fedit%2F2021%2F0204%2Fupload_1612420942700u8UwD.jpg%22&amp;type=nf340_228\" height=\"114\" src=\"https://s.pstatic.net/dthumb.phinf/?src=%22https%3A%2F%2Fs.pstatic.net%2Fstatic%2Fwww%2Fmobile%2Fedit%2F2021%2F0204%2Fupload_1612420942700u8UwD.jpg%22&amp;type=nf340_228\" width=\"170\"/>,\n",
       " <img alt=\"100개 이상 써본 듯? 기은세가 픽한 고데기 탑 3\" data-src=\"https://s.pstatic.net/dthumb.phinf/?src=%22https%3A%2F%2Fs.pstatic.net%2Fstatic%2Fwww%2Fmobile%2Fedit%2F2021%2F0208%2Fupload_1612768295745iMaXq.jpg%22&amp;type=nf464_260\" height=\"130\" src=\"https://s.pstatic.net/dthumb.phinf/?src=%22https%3A%2F%2Fs.pstatic.net%2Fstatic%2Fwww%2Fmobile%2Fedit%2F2021%2F0208%2Fupload_1612768295745iMaXq.jpg%22&amp;type=nf464_260\" width=\"232\"/>,\n",
       " <img alt=\"활용도 좋은 'ZARA' 원피스 사 왔으니 구경하삼\" data-src=\"https://s.pstatic.net/dthumb.phinf/?src=%22https%3A%2F%2Fs.pstatic.net%2Fstatic%2Fwww%2Fmobile%2Fedit%2F2021%2F0204%2Fupload_1612420904497To0yw.jpg%22&amp;type=nf464_260\" height=\"130\" src=\"https://s.pstatic.net/dthumb.phinf/?src=%22https%3A%2F%2Fs.pstatic.net%2Fstatic%2Fwww%2Fmobile%2Fedit%2F2021%2F0204%2Fupload_1612420904497To0yw.jpg%22&amp;type=nf464_260\" width=\"232\"/>,\n",
       " <img alt=\"기본템으로 스니커즈 코디 상큼하게 하는 방법\" data-src=\"https://s.pstatic.net/dthumb.phinf/?src=%22https%3A%2F%2Fs.pstatic.net%2Fstatic%2Fwww%2Fmobile%2Fedit%2F2021%2F0204%2Fupload_1612420804744BN1Ua.jpg%22&amp;type=nf464_260\" height=\"130\" src=\"https://s.pstatic.net/dthumb.phinf/?src=%22https%3A%2F%2Fs.pstatic.net%2Fstatic%2Fwww%2Fmobile%2Fedit%2F2021%2F0204%2Fupload_1612420804744BN1Ua.jpg%22&amp;type=nf464_260\" width=\"232\"/>,\n",
       " <img alt=\"재구매 의사 있다? 없다? 거의 다 비운 공병템\" data-src=\"https://s.pstatic.net/dthumb.phinf/?src=%22https%3A%2F%2Fs.pstatic.net%2Fstatic%2Fwww%2Fmobile%2Fedit%2F2021%2F0204%2Fupload_1612420981648Ntpz6.jpg%22&amp;type=nf340_228\" height=\"114\" src=\"https://s.pstatic.net/dthumb.phinf/?src=%22https%3A%2F%2Fs.pstatic.net%2Fstatic%2Fwww%2Fmobile%2Fedit%2F2021%2F0204%2Fupload_1612420981648Ntpz6.jpg%22&amp;type=nf340_228\" width=\"170\"/>,\n",
       " <img alt=\"트리트먼트부터 미스트까지! 혹한기 헤어 케어\" data-src=\"https://s.pstatic.net/dthumb.phinf/?src=%22https%3A%2F%2Fs.pstatic.net%2Fstatic%2Fwww%2Fmobile%2Fedit%2F2021%2F0204%2Fupload_1612420955491IoUyp.jpg%22&amp;type=nf340_228\" height=\"114\" src=\"https://s.pstatic.net/dthumb.phinf/?src=%22https%3A%2F%2Fs.pstatic.net%2Fstatic%2Fwww%2Fmobile%2Fedit%2F2021%2F0204%2Fupload_1612420955491IoUyp.jpg%22&amp;type=nf340_228\" width=\"170\"/>,\n",
       " <img alt=\"행복한 설날을 위한 센스 넘치는 선물 리스트♥\" data-src=\"https://s.pstatic.net/dthumb.phinf/?src=%22https%3A%2F%2Fs.pstatic.net%2Fstatic%2Fwww%2Fmobile%2Fedit%2F2021%2F0204%2Fupload_1612420929943ZaL2Q.jpg%22&amp;type=nf340_228\" height=\"114\" src=\"https://s.pstatic.net/dthumb.phinf/?src=%22https%3A%2F%2Fs.pstatic.net%2Fstatic%2Fwww%2Fmobile%2Fedit%2F2021%2F0204%2Fupload_1612420929943ZaL2Q.jpg%22&amp;type=nf340_228\" width=\"170\"/>,\n",
       " <img alt=\"언제나 시선 집중! 현아의 스타일🎀 ft. 착용템\" data-src=\"https://s.pstatic.net/dthumb.phinf/?src=%22https%3A%2F%2Fs.pstatic.net%2Fstatic%2Fwww%2Fmobile%2Fedit%2F2021%2F0203%2Fupload_1612340384698WLg41.jpg%22&amp;type=nf340_228\" height=\"114\" src=\"https://s.pstatic.net/dthumb.phinf/?src=%22https%3A%2F%2Fs.pstatic.net%2Fstatic%2Fwww%2Fmobile%2Fedit%2F2021%2F0203%2Fupload_1612340384698WLg41.jpg%22&amp;type=nf340_228\" width=\"170\"/>,\n",
       " <img alt=\"슬림하게 보이고 싶은 통통 보이를 위한 꿀팁\" data-src=\"https://s.pstatic.net/dthumb.phinf/?src=%22https%3A%2F%2Fs.pstatic.net%2Fstatic%2Fwww%2Fmobile%2Fedit%2F2021%2F0208%2Fupload_1612768229940XTcAG.jpg%22&amp;type=nf464_260\" height=\"130\" src=\"https://s.pstatic.net/dthumb.phinf/?src=%22https%3A%2F%2Fs.pstatic.net%2Fstatic%2Fwww%2Fmobile%2Fedit%2F2021%2F0208%2Fupload_1612768229940XTcAG.jpg%22&amp;type=nf464_260\" width=\"232\"/>,\n",
       " <img alt=\"꾸안꾸 느낌으로 자연스럽고 스타일리시한 코디\" data-src=\"https://s.pstatic.net/dthumb.phinf/?src=%22https%3A%2F%2Fs.pstatic.net%2Fstatic%2Fwww%2Fmobile%2Fedit%2F2021%2F0203%2Fupload_1612342495427WljYd.jpg%22&amp;type=nf464_260\" height=\"130\" src=\"https://s.pstatic.net/dthumb.phinf/?src=%22https%3A%2F%2Fs.pstatic.net%2Fstatic%2Fwww%2Fmobile%2Fedit%2F2021%2F0203%2Fupload_1612342495427WljYd.jpg%22&amp;type=nf464_260\" width=\"232\"/>,\n",
       " <img alt=\"편안함까지 갖춘 유니크템으로 돌려 입기 도전\" data-src=\"https://s.pstatic.net/dthumb.phinf/?src=%22https%3A%2F%2Fs.pstatic.net%2Fstatic%2Fwww%2Fmobile%2Fedit%2F2021%2F0203%2Fupload_1612342507001Ytpj9.jpg%22&amp;type=nf464_260\" height=\"130\" src=\"https://s.pstatic.net/dthumb.phinf/?src=%22https%3A%2F%2Fs.pstatic.net%2Fstatic%2Fwww%2Fmobile%2Fedit%2F2021%2F0203%2Fupload_1612342507001Ytpj9.jpg%22&amp;type=nf464_260\" width=\"232\"/>,\n",
       " <img alt=\"홀린 듯이 결제를 하게 되는 유튜버 추천템 4\" data-src=\"https://s.pstatic.net/dthumb.phinf/?src=%22https%3A%2F%2Fs.pstatic.net%2Fstatic%2Fwww%2Fmobile%2Fedit%2F2021%2F0203%2Fupload_16123425718692OhQz.jpg%22&amp;type=nf340_228\" height=\"114\" width=\"170\"/>,\n",
       " <img alt=\"절대 실패 없는 색조합으로 일주일 룩 정해드림\" data-src=\"https://s.pstatic.net/dthumb.phinf/?src=%22https%3A%2F%2Fs.pstatic.net%2Fstatic%2Fwww%2Fmobile%2Fedit%2F2021%2F0203%2Fupload_1612342522774TOFpt.jpg%22&amp;type=nf340_228\" height=\"114\" width=\"170\"/>,\n",
       " <img alt=\"8가지 다양한 컬러로 '목티' 데일리 스타일링\" data-src=\"https://s.pstatic.net/dthumb.phinf/?src=%22https%3A%2F%2Fs.pstatic.net%2Fstatic%2Fwww%2Fmobile%2Fedit%2F2021%2F0203%2Fupload_1612342474941cQvQt.jpg%22&amp;type=nf340_228\" height=\"114\" width=\"170\"/>,\n",
       " <img alt=\"과즙 팡팡 터지는 음악방송 MC들의 패션 탐구\" data-src=\"https://s.pstatic.net/dthumb.phinf/?src=%22https%3A%2F%2Fs.pstatic.net%2Fstatic%2Fwww%2Fmobile%2Fedit%2F2021%2F0203%2Fupload_1612340443448ITaoe.jpg%22&amp;type=nf340_228\" height=\"114\" width=\"170\"/>,\n",
       " <img alt=\"흰끼회끼 성애자를 위한 여름 뮤트 쿨톤 팔레트\" data-src=\"https://s.pstatic.net/dthumb.phinf/?src=%22https%3A%2F%2Fs.pstatic.net%2Fstatic%2Fwww%2Fmobile%2Fedit%2F2021%2F0203%2Fupload_1612342602359KI6H5.jpg%22&amp;type=nf340_228\" height=\"114\" width=\"170\"/>,\n",
       " <img alt=\"1년을 돌아보며 정리해본 브랜드별 쿠션 비교\" data-src=\"https://s.pstatic.net/dthumb.phinf/?src=%22https%3A%2F%2Fs.pstatic.net%2Fstatic%2Fwww%2Fmobile%2Fedit%2F2021%2F0205%2Fupload_1612514315665xg0u4.jpg%22&amp;type=nf464_260\" height=\"130\" width=\"232\"/>,\n",
       " <img alt=\"레이어드 어렵지 않아! 나의 출근 룩을 참고해\" data-src=\"https://s.pstatic.net/dthumb.phinf/?src=%22https%3A%2F%2Fs.pstatic.net%2Fstatic%2Fwww%2Fmobile%2Fedit%2F2021%2F0203%2Fupload_16123320218801geo3.jpg%22&amp;type=nf464_260\" height=\"130\" width=\"232\"/>,\n",
       " <img alt=\"왜 나는 안 어울릴까? 그렇게 쓰지 마세요 제발!\" data-src=\"https://s.pstatic.net/dthumb.phinf/?src=%22https%3A%2F%2Fs.pstatic.net%2Fstatic%2Fwww%2Fmobile%2Fedit%2F2021%2F0205%2Fupload_1612514323083lBXik.jpg%22&amp;type=nf464_260\" height=\"130\" width=\"232\"/>,\n",
       " <img alt=\"피부 진정이 필요하신 분들 여기로 모이세요🌱\" data-src=\"https://s.pstatic.net/dthumb.phinf/?src=%22https%3A%2F%2Fs.pstatic.net%2Fstatic%2Fwww%2Fmobile%2Fedit%2F2021%2F0203%2Fupload_1612342555954iAvzU.jpg%22&amp;type=nf340_228\" height=\"114\" width=\"170\"/>,\n",
       " <img alt=\"새해에도 뒹굴! 프로귀찮러들의 삶의 질 향상템\" data-src=\"https://s.pstatic.net/dthumb.phinf/?src=%22https%3A%2F%2Fs.pstatic.net%2Fstatic%2Fwww%2Fmobile%2Fedit%2F2021%2F0203%2Fupload_1612332429556h1Vx6.jpg%22&amp;type=nf340_228\" height=\"114\" width=\"170\"/>,\n",
       " <img alt=\"유행은 돌고 돌아~ 다시 돌아온 노페 스타일링\" data-src=\"https://s.pstatic.net/dthumb.phinf/?src=%22https%3A%2F%2Fs.pstatic.net%2Fstatic%2Fwww%2Fmobile%2Fedit%2F2021%2F0203%2Fupload_1612332369488UTt11.jpg%22&amp;type=nf340_228\" height=\"114\" width=\"170\"/>,\n",
       " <img alt=\"지수처럼 힙하게! 니트 스타일링의 완성은 무엇\" data-src=\"https://s.pstatic.net/dthumb.phinf/?src=%22https%3A%2F%2Fs.pstatic.net%2Fstatic%2Fwww%2Fmobile%2Fedit%2F2021%2F0203%2Fupload_1612330491711zH6aW.jpg%22&amp;type=nf340_228\" height=\"114\" width=\"170\"/>,\n",
       " <img alt=\"셀럽들도 푹 빠진 '레더' 어떻게 입어야 예뻐?\" data-src=\"https://s.pstatic.net/dthumb.phinf/?src=%22https%3A%2F%2Fs.pstatic.net%2Fstatic%2Fwww%2Fmobile%2Fedit%2F2021%2F0203%2Fupload_1612330458234VXRog.jpg%22&amp;type=nf340_228\" height=\"114\" width=\"170\"/>,\n",
       " <img alt=\"패키지부터 고급져♥ 지방시 파데 6종 비교샷\" data-src=\"https://s.pstatic.net/dthumb.phinf/?src=%22https%3A%2F%2Fs.pstatic.net%2Fstatic%2Fwww%2Fmobile%2Fedit%2F2021%2F0203%2Fupload_1612332459773j9KXn.jpg%22&amp;type=nf340_228\" height=\"114\" width=\"170\"/>,\n",
       " <img alt=\"에디터 파우치 지분을 가장 많이 차지한 제품은\" data-src=\"https://s.pstatic.net/dthumb.phinf/?src=%22https%3A%2F%2Fs.pstatic.net%2Fstatic%2Fwww%2Fmobile%2Fedit%2F2021%2F0203%2Fupload_16123324842981SKm9.jpg%22&amp;type=nf340_228\" height=\"114\" width=\"170\"/>,\n",
       " <img alt=\"나이키 에어조던1 미드 범고래 꼼꼼 리뷰 나감\" data-src=\"https://s.pstatic.net/dthumb.phinf/?src=%22https%3A%2F%2Fs.pstatic.net%2Fstatic%2Fwww%2Fmobile%2Fedit%2F2021%2F0203%2Fupload_16123320340982Dem6.jpg%22&amp;type=nf340_228\" height=\"114\" width=\"170\"/>,\n",
       " <img alt=\"이효리 룩의 부활? 2021 인기 있을 레트로 패션\" data-src=\"https://s.pstatic.net/dthumb.phinf/?src=%22https%3A%2F%2Fs.pstatic.net%2Fstatic%2Fwww%2Fmobile%2Fedit%2F2021%2F0202%2Fupload_1612257990550HLqiu.jpg%22&amp;type=nf340_228\" height=\"114\" width=\"170\"/>,\n",
       " <img alt=\"'나스' 스프링 신상 블러쉬 발색 보고 구매 가자\" data-src=\"https://s.pstatic.net/dthumb.phinf/?src=%22https%3A%2F%2Fs.pstatic.net%2Fstatic%2Fwww%2Fmobile%2Fedit%2F2021%2F0202%2Fupload_1612258085122sn7wR.jpg%22&amp;type=nf340_228\" height=\"114\" width=\"170\"/>,\n",
       " <img alt=\"U넥, V넥 니트 조끼 직접 입어보니 (내돈내산)\" data-src=\"https://s.pstatic.net/dthumb.phinf/?src=%22https%3A%2F%2Fs.pstatic.net%2Fstatic%2Fwww%2Fmobile%2Fedit%2F2021%2F0202%2Fupload_1612258033906IrsXP.jpg%22&amp;type=nf340_228\" height=\"114\" width=\"170\"/>,\n",
       " <img alt=\"시크하거나 힙하거나💍 그녀들의 주얼리 활용법\" data-src=\"https://s.pstatic.net/dthumb.phinf/?src=%22https%3A%2F%2Fs.pstatic.net%2Fstatic%2Fwww%2Fmobile%2Fedit%2F2021%2F0202%2Fupload_1612256327075yUIZL.jpg%22&amp;type=nf340_228\" height=\"114\" width=\"170\"/>,\n",
       " <img alt=\"이거 진짜 좋다! 다재다능한 2 in 1 멀티템 .zip\" data-src=\"https://s.pstatic.net/dthumb.phinf/?src=%22https%3A%2F%2Fs.pstatic.net%2Fstatic%2Fwww%2Fmobile%2Fedit%2F2021%2F0202%2Fupload_1612258072917AZcux.jpg%22&amp;type=nf340_228\" height=\"114\" width=\"170\"/>,\n",
       " <img alt=\"나이키, 뉴발 등 원마일웨어 아우터 여기서 골라\" data-src=\"https://s.pstatic.net/dthumb.phinf/?src=%22https%3A%2F%2Fs.pstatic.net%2Fstatic%2Fwww%2Fmobile%2Fedit%2F2021%2F0202%2Fupload_1612258048464P91fp.jpg%22&amp;type=nf340_228\" height=\"114\" width=\"170\"/>,\n",
       " <img alt=\"클린 제품 찾으세요? 숨겨져 있는 착한 브랜드 6\" data-src=\"https://s.pstatic.net/dthumb.phinf/?src=%22https%3A%2F%2Fs.pstatic.net%2Fstatic%2Fwww%2Fmobile%2Fedit%2F2021%2F0202%2Fupload_1612258103460aw3oO.jpg%22&amp;type=nf340_228\" height=\"114\" width=\"170\"/>,\n",
       " <img alt=\"24시간 보습 + 밀착 커버 파데 찾는다면 드루와\" data-src=\"https://s.pstatic.net/dthumb.phinf/?src=%22https%3A%2F%2Fs.pstatic.net%2Fstatic%2Fwww%2Fmobile%2Fedit%2F2021%2F0202%2Fupload_1612258146442NQMTO.jpg%22&amp;type=nf340_228\" height=\"114\" width=\"170\"/>,\n",
       " <img alt=\"미리 준비하는 2021 봄 패션 트렌드 ft. 스타 룩\" data-src=\"https://s.pstatic.net/dthumb.phinf/?src=%22https%3A%2F%2Fs.pstatic.net%2Fstatic%2Fwww%2Fmobile%2Fedit%2F2021%2F0202%2Fupload_1612232747076ADtXr.jpg%22&amp;type=nf340_228\" height=\"114\" width=\"170\"/>,\n",
       " <img alt=\"월급 털림 주의! 1월 신상 후기 구경할 사람 구함\" data-src=\"https://s.pstatic.net/dthumb.phinf/?src=%22https%3A%2F%2Fs.pstatic.net%2Fstatic%2Fwww%2Fmobile%2Fedit%2F2021%2F0202%2Fupload_1612244703643k4XMG.jpg%22&amp;type=nf340_228\" height=\"114\" width=\"170\"/>,\n",
       " <img alt=\"내 얼굴 위에 꽃이🌺 이니스프리 동백 에디션\" data-src=\"https://s.pstatic.net/dthumb.phinf/?src=%22https%3A%2F%2Fs.pstatic.net%2Fstatic%2Fwww%2Fmobile%2Fedit%2F2021%2F0202%2Fupload_16122446823100HzAr.jpg%22&amp;type=nf340_228\" height=\"114\" width=\"170\"/>,\n",
       " <img alt=\"선미, 제니는 어떤 니트와 스웨터를 입었을까?\" data-src=\"https://s.pstatic.net/dthumb.phinf/?src=%22https%3A%2F%2Fs.pstatic.net%2Fstatic%2Fwww%2Fmobile%2Fedit%2F2021%2F0202%2Fupload_1612232726027tLt33.jpg%22&amp;type=nf340_228\" height=\"114\" width=\"170\"/>,\n",
       " <img alt=\"봄까지 쭉~ 소녀스러운 '메리제인' 슈즈 BEST\" data-src=\"https://s.pstatic.net/dthumb.phinf/?src=%22https%3A%2F%2Fs.pstatic.net%2Fstatic%2Fwww%2Fmobile%2Fedit%2F2021%2F0202%2Fupload_16122446377274TKNv.jpg%22&amp;type=nf340_228\" height=\"114\" width=\"170\"/>,\n",
       " <img alt=\"활동성은 챙기고 스타일은 덤! 요즘 핫한 룩이래\" data-src=\"https://s.pstatic.net/dthumb.phinf/?src=%22https%3A%2F%2Fs.pstatic.net%2Fstatic%2Fwww%2Fmobile%2Fedit%2F2021%2F0202%2Fupload_1612244389550eFr1c.jpg%22&amp;type=nf340_228\" height=\"114\" width=\"170\"/>,\n",
       " <img alt=\"흑발? 금발? 태연으로 보는 헤어 스타일 6가지\" data-src=\"https://s.pstatic.net/dthumb.phinf/?src=%22https%3A%2F%2Fs.pstatic.net%2Fstatic%2Fwww%2Fmobile%2Fedit%2F2021%2F0202%2Fupload_1612244723137kGa2X.jpg%22&amp;type=nf340_228\" height=\"114\" width=\"170\"/>,\n",
       " <img alt=\"기초부터 색조까지, 놓치면 안 될 에디터 찜콩템\" data-src=\"https://s.pstatic.net/dthumb.phinf/?src=%22https%3A%2F%2Fs.pstatic.net%2Fstatic%2Fwww%2Fmobile%2Fedit%2F2021%2F0202%2Fupload_16122447425960LXpG.jpg%22&amp;type=nf340_228\" height=\"114\" width=\"170\"/>,\n",
       " <img alt=\"손민수하기 쉬운 커플 시밀러 아이템 추천해줌\" data-src=\"https://s.pstatic.net/dthumb.phinf/?src=%22https%3A%2F%2Fs.pstatic.net%2Fstatic%2Fwww%2Fmobile%2Fedit%2F2021%2F0202%2Fupload_1612244654515dA454.jpg%22&amp;type=nf340_228\" height=\"114\" width=\"170\"/>,\n",
       " <img alt=\"빈티지 스토어에서 발견한 체크 재킷 스타일링\" data-src=\"https://s.pstatic.net/dthumb.phinf/?src=%22https%3A%2F%2Fs.pstatic.net%2Fstatic%2Fwww%2Fmobile%2Fedit%2F2021%2F0202%2Fupload_1612244618543vcRlB.jpg%22&amp;type=nf340_228\" height=\"114\" width=\"170\"/>,\n",
       " <img alt=\"돌아온 Celebrity, 아이유의 일상 패션 파헤쳐 봄\" data-src=\"https://s.pstatic.net/dthumb.phinf/?src=%22https%3A%2F%2Fs.pstatic.net%2Fstatic%2Fwww%2Fmobile%2Fedit%2F2021%2F0201%2Fupload_1612157467404AnHp2.jpg%22&amp;type=nf340_228\" height=\"114\" width=\"170\"/>,\n",
       " <img alt=\"고급스러움과 따뜻함을 동시에 주는 컬러는 무엇\" data-src=\"https://s.pstatic.net/dthumb.phinf/?src=%22https%3A%2F%2Fs.pstatic.net%2Fstatic%2Fwww%2Fmobile%2Fedit%2F2021%2F0201%2Fupload_16121589379029vzVd.jpg%22&amp;type=nf340_228\" height=\"114\" width=\"170\"/>,\n",
       " <img alt=\"칙칙함 ZERO 화사함 가득한 플리스 추천 &amp; 코디\" data-src=\"https://s.pstatic.net/dthumb.phinf/?src=%22https%3A%2F%2Fs.pstatic.net%2Fstatic%2Fwww%2Fmobile%2Fedit%2F2021%2F0201%2Fupload_1612158918924U7Krd.jpg%22&amp;type=nf340_228\" height=\"114\" width=\"170\"/>,\n",
       " <img alt=\"같은 옷이었어? 느낌 완전 다른 스타일링 비교\" data-src=\"https://s.pstatic.net/dthumb.phinf/?src=%22https%3A%2F%2Fs.pstatic.net%2Fstatic%2Fwww%2Fmobile%2Fedit%2F2021%2F0201%2Fupload_1612157483269ebLcs.jpg%22&amp;type=nf340_228\" height=\"114\" width=\"170\"/>,\n",
       " <img alt=\"입술이 탱글🍒 꾸안꾸 데이트 메이크업으로 딱\" data-src=\"https://s.pstatic.net/dthumb.phinf/?src=%22https%3A%2F%2Fs.pstatic.net%2Fstatic%2Fwww%2Fmobile%2Fedit%2F2021%2F0201%2Fupload_1612159022891stUDI.jpg%22&amp;type=nf340_228\" height=\"114\" width=\"170\"/>,\n",
       " <img alt=\"아직도 안 써봄? 국민템으로 불리고 있는 제품들\" data-src=\"https://s.pstatic.net/dthumb.phinf/?src=%22https%3A%2F%2Fs.pstatic.net%2Fstatic%2Fwww%2Fmobile%2Fedit%2F2021%2F0201%2Fupload_1612159011634uo3W6.jpg%22&amp;type=nf340_228\" height=\"114\" width=\"170\"/>,\n",
       " <img alt=\"일교차 큰 날씨에 필수! 겟잇뷰티 수분크림 BEST\" data-src=\"https://s.pstatic.net/dthumb.phinf/?src=%22https%3A%2F%2Fs.pstatic.net%2Fstatic%2Fwww%2Fmobile%2Fedit%2F2021%2F0201%2Fupload_1612158985009VWDEl.jpg%22&amp;type=nf340_228\" height=\"114\" width=\"170\"/>,\n",
       " <img alt=\"메이크업포에버 겉보속촉 루즈 아티스트 발색\" data-src=\"https://s.pstatic.net/dthumb.phinf/?src=%22https%3A%2F%2Fs.pstatic.net%2Fstatic%2Fwww%2Fmobile%2Fedit%2F2021%2F0203%2Fupload_1612318052034sgjfy.jpg%22&amp;type=nf340_228\" height=\"114\" width=\"170\"/>,\n",
       " <img alt=\"청바지가 달라졌어! 올해 주목해야 할 스타일 6\" data-src=\"https://s.pstatic.net/dthumb.phinf/?src=%22https%3A%2F%2Fs.pstatic.net%2Fstatic%2Fwww%2Fmobile%2Fedit%2F2021%2F0129%2Fupload_1611898300383gmwBf.jpg%22&amp;type=nf340_228\" height=\"114\" width=\"170\"/>,\n",
       " <img alt=\"추위에도 포기할 수 없는 얼죽코족을 위하여★\" data-src=\"https://s.pstatic.net/dthumb.phinf/?src=%22https%3A%2F%2Fs.pstatic.net%2Fstatic%2Fwww%2Fmobile%2Fedit%2F2021%2F0129%2Fupload_1611892768964cOBsC.jpg%22&amp;type=nf340_228\" height=\"114\" width=\"170\"/>,\n",
       " <img alt=\"칙칙한 옷 아웃! 지수, 예린처럼 특별한 룩 어때\" data-src=\"https://s.pstatic.net/dthumb.phinf/?src=%22https%3A%2F%2Fs.pstatic.net%2Fstatic%2Fwww%2Fmobile%2Fedit%2F2021%2F0129%2Fupload_1611892748139i6kFb.jpg%22&amp;type=nf340_228\" height=\"114\" width=\"170\"/>,\n",
       " <img alt=\"올봄엔 어떻게 코디하면 좋을지 미리 준비해봤어\" data-src=\"https://s.pstatic.net/dthumb.phinf/?src=%22https%3A%2F%2Fs.pstatic.net%2Fstatic%2Fwww%2Fmobile%2Fedit%2F2021%2F0129%2Fupload_1611898322206ZIGZ3.jpg%22&amp;type=nf340_228\" height=\"114\" width=\"170\"/>,\n",
       " <img alt=\"집순이들 컴온~ 집콕 패션의 필수 아이템 BEST\" data-src=\"https://s.pstatic.net/dthumb.phinf/?src=%22https%3A%2F%2Fs.pstatic.net%2Fstatic%2Fwww%2Fmobile%2Fedit%2F2021%2F0129%2Fupload_1611898357731tFJdM.jpg%22&amp;type=nf340_228\" height=\"114\" width=\"170\"/>,\n",
       " <img alt=\"'센스가 남다르다' 소리 들을 트렌디 네일 모음\" data-src=\"https://s.pstatic.net/dthumb.phinf/?src=%22https%3A%2F%2Fs.pstatic.net%2Fstatic%2Fwww%2Fmobile%2Fedit%2F2021%2F0129%2Fupload_1611898418790SkH7k.jpg%22&amp;type=nf340_228\" height=\"114\" width=\"170\"/>,\n",
       " <img alt=\"이건 사야 해! 지름신을 부르는 신상 컬렉션🌸\" data-src=\"https://s.pstatic.net/dthumb.phinf/?src=%22https%3A%2F%2Fs.pstatic.net%2Fstatic%2Fwww%2Fmobile%2Fedit%2F2021%2F0129%2Fupload_16118983904882Db9j.jpg%22&amp;type=nf340_228\" height=\"114\" width=\"170\"/>,\n",
       " <img alt=\"내 남친의 매력을 업 시켜줄 스타일링 (ft. 향수)\" data-src=\"https://s.pstatic.net/dthumb.phinf/?src=%22https%3A%2F%2Fs.pstatic.net%2Fstatic%2Fwww%2Fmobile%2Fedit%2F2021%2F0129%2Fupload_1611898337052XHg86.jpg%22&amp;type=nf340_228\" height=\"114\" width=\"170\"/>,\n",
       " <img alt=\"#촉촉커버 #전색상\" data-src=\"https://s.pstatic.net/dthumb.phinf/?src=%22https%3A%2F%2Fs.pstatic.net%2Fstatic%2Fwww%2Fmobile%2Fedit%2F2021%2F0201%2Fupload_1612161926600vZJpv.jpg%22&amp;type=nf340_228\" height=\"114\" width=\"170\"/>,\n",
       " <img alt=\"#프레시꽃향 #라튤립\" data-src=\"https://s.pstatic.net/dthumb.phinf/?src=%22https%3A%2F%2Fs.pstatic.net%2Fstatic%2Fwww%2Fmobile%2Fedit%2F2021%2F0129%2Fupload_1611909050254HAjUZ.jpg%22&amp;type=nf340_228\" height=\"114\" width=\"170\"/>,\n",
       " <img alt=\"마스크 써도 살아남는 스티커 립 직접 비교해봄\" data-src=\"https://s.pstatic.net/dthumb.phinf/?src=%22https%3A%2F%2Fs.pstatic.net%2Fstatic%2Fwww%2Fmobile%2Fedit%2F2021%2F0129%2Fupload_1611898375965AMZWj.jpg%22&amp;type=nf340_228\" height=\"114\" width=\"170\"/>,\n",
       " <img alt=\"웨일\" height=\"48\" src=\"data:image/png;base64,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\" width=\"48\"/>,\n",
       " <img alt=\"꽃\" height=\"50\" src=\"data:image/png;base64,iVBORw0KGgoAAAANSUhEUgAAAF4AAABkCAMAAAA47XeXAAAAgVBMVEUAAADN5PdGm99Gm99Gm99Gm99Gm95Gm99Gm99Gm99Gm99Gm99Gm99Gm99Gm99Gm99Gm99Gm99Gm99Gm99Gm99Gm99Gm99Gmt9Gm99Gm99Gm99Gm95Gm99Gm99Gm95Gm99Hm99Gm99Gm9/////3+/5cp+LO5PfR5/fO5fdcp+P7/f/zv5GhAAAAInRSTlMA/v7vH9u5qJNgGwb6l8a9uqF9WFUyLxYMCtbVmLCwe4OCj8gzEgAAA0NJREFUaN7NmmFz4iAQhkkwMTHGWrWtWvWuq8mF+/8/8Ey2nb0OhSwQZnw+MHQ7pbjAy2s2gsuiLPJMLpcyy4tyISZltnmHbxw3MzEVr/MUNNL5q5iCt2ccXCN9fhPB7CQYkTsRRlWDlboSAexzGCHfC28OKxhldfDOzBMwePLNTw0sauHFFphshQcLCUwkaQRfXYBPSkrEUBdv3jezcXXhw1ciUhc+fCUidQlH7qzqEk5d2dQlnHxvU5dwVgdXdSGclaiGyamt6hLO1qIu4ZASzcFE092SBprk1jagulvXAAw/qb5N7m176xQYmOPoLymYaK/X65/PNhlagE6LGUhfRM8FjNzuf/73//bHmInzoJEpjMyeWpp9RzGz/PT6+QvMNO2Q+67PPeYZY5h7jDVg5OM+/BGikd13JfDAj/Ad1WLMyEyUwKPT00ypN1GKAljQJtFiFgqRe86eYhbWIvPPPR5d+9pKiIgUwKNJdHXBvW9jyRye1EWLWYfnJcd141Byspizz7gbUyWDuqiW0v15D9g3ZgF86JwyKUgUHJaATUmS5rsEdkkTZLjZS8Alw+skFr8Nl6H6uosShaKOp3Zo+/jgFTDe+wcSfv0yFGfQaLX7tDO0reXOPRuMCG4Q11Y3IiYblWgzS7R+h31qdRtlGB7zikeUckz+AB3a8FuMqD7Cd2nhUHLOEIkLubQIkEuLxIdwEwUy3HyXxsbgPMJcGuGox+TSIugxuTQ+KHIaAS5N92eIIuMT5tJoPfHy5q9yKoXLelLuKRri0mjMQdhwTPw6Sv8pzKXhFyhNilEwkSCXRrnAnaPnJdyl0UrqXircpeHVglnv+62K4NJo3lFcGmWd79KO7OQoXAE8XNO6tIQGxj7fpfHTwk8RubQLWEGvgTNGKzj01fixunCMCCYcvSSlaFwUyKVx86J3bczpUR3zimq1LqdosAUbJF54ar+uk5Gju436mPTk8ZAXFdO93HRYTesUVgf3B+y0XdxLfdVputmfKp/iBtNjyl3c0kzUwtJIWewIPvAL9LOyWLsV9WAps3VRzh6hJBm3oOqsRKfHLGYzS/GP+iLBuBKdqkd+iWPkFZTHf4Em4us/uhI5qss/6zK5u8+AXpwAAAAASUVORK5CYII=\" width=\"47\"/>]"
      ]
     },
     "execution_count": 1,
     "metadata": {},
     "output_type": "execute_result"
    }
   ],
   "source": [
    "# 필요패키지 import\n",
    "import numpy as np\n",
    "import pandas as pd\n",
    "import requests # 크롤링에 사용하는 패키지\n",
    "from bs4 import BeautifulSoup # html 변환에 사용함\n",
    "\n",
    "# url정의\n",
    "url = 'https://www.naver.com/'\n",
    "\n",
    "# requsts로 url에 정보요청\n",
    "response = requests.get(url).text\n",
    "\n",
    "# 정보를 html 변환 (보기 쉽게)\n",
    "html = BeautifulSoup(response, 'html.parser')\n",
    "\n",
    "# html 내에서 우리가 보고 싶은 정보만 선별\n",
    "html.select('img')"
   ]
  },
  {
   "cell_type": "markdown",
   "metadata": {
    "id": "leESHsnF8kMy",
    "slideshow": {
     "slide_type": "slide"
    }
   },
   "source": [
    "### 실제 개발자가 작성한 코드로 확인된다\n",
    "    정제되지 않은 데이터로 가독성이 좋지 않음\n",
    "    우리는 이 중에서 우리가 원하는 정보를 선별해서 가져오는 작업을 진행합니다.\n",
    "    그러기에 html의 기본 구성을 살펴보도록 하겠습니다."
   ]
  },
  {
   "cell_type": "markdown",
   "metadata": {
    "id": "ijN26CQi8oSa",
    "slideshow": {
     "slide_type": "slide"
    }
   },
   "source": [
    "#### 웹 페이지의 구성\n",
    "    HTML(Hyper Text Markup Language)\n",
    "    www 를 구성하는데 사용하는 국제표준 언어로서 컨텐츠와 레이아웃을 담고 있다\n",
    "\n",
    "    <태그>내용</태그>\n",
    "    <tag이름 class=\"class이름1 class이름2\" id=\"주민번호\" href=\"주소\"></tag이름>\n",
    "\n",
    "    형태나 속성을 묘사하기 위한 구조적 언어 : HTML, CSS (계층이 있음)\n",
    "    웹의 작동 및 제어를 위한 프로그래밍 언어 :  Js"
   ]
  },
  {
   "cell_type": "markdown",
   "metadata": {
    "id": "7caqQS1q8xE9",
    "slideshow": {
     "slide_type": "slide"
    }
   },
   "source": [
    "#### 셀렉터\n",
    "    용도 : html에서 내가 원하는 내용을 찾아내기 위해서\n",
    "    <span class=\"news\" id=\"1234\">비비고 왕교자</span>\n",
    "\n",
    "    단일 셀렉터\n",
    "    \n",
    "    html.select('span')\n",
    "    tag : span\n",
    "    class(별명, 그룹명) : .news\n",
    "    id(고유값) : #1234"
   ]
  },
  {
   "cell_type": "markdown",
   "metadata": {
    "id": "U-JjMflT80sS",
    "slideshow": {
     "slide_type": "slide"
    }
   },
   "source": [
    "#### 복합 셀렉터\n",
    "    1. 조합 셀렉터\n",
    "    <span>1</span>\n",
    "    <span class=\"txt\">2</span>\n",
    "    <em class=\"txt\">3</em>\n",
    "    \n",
    "    태그 이름이 span이고 클래스 이름은 txt인 라인을 찾고 싶다. : span.txt \n",
    "    li 태그 중에서 id가 name 인 라인을 찾고\\ 싶다. : li#name\n",
    "\n",
    "    2. 경로 셀렉터\n",
    "    <ul>\n",
    "        <li><span>이걸 찾으려면?</span></li>\n",
    "    </ul>\n",
    "    <span>이건 아님</span>\n",
    "\n",
    "    ul 태그안 li 태그 안 span 라인을 찾는다\n",
    "    ul > li > span 혹은 ul li span"
   ]
  },
  {
   "cell_type": "code",
   "execution_count": 2,
   "metadata": {
    "ExecuteTime": {
     "end_time": "2021-02-03T05:06:59.639810Z",
     "start_time": "2021-02-03T05:06:59.637267Z"
    }
   },
   "outputs": [],
   "source": [
    "# url 설정\n",
    "url = 'https://search.naver.com/search.naver?where=nexearch&sm=top_hty&fbm=1&ie=utf8&query=로또'"
   ]
  },
  {
   "cell_type": "code",
   "execution_count": 3,
   "metadata": {
    "ExecuteTime": {
     "end_time": "2021-02-03T05:08:50.706376Z",
     "start_time": "2021-02-03T05:08:50.436215Z"
    }
   },
   "outputs": [],
   "source": [
    "# requests로 데이터 요청하기\n",
    "response = requests.get(url).text"
   ]
  },
  {
   "cell_type": "code",
   "execution_count": 4,
   "metadata": {
    "ExecuteTime": {
     "end_time": "2021-02-03T05:10:10.569988Z",
     "start_time": "2021-02-03T05:10:10.432372Z"
    }
   },
   "outputs": [],
   "source": [
    "# html로 변환\n",
    "html = BeautifulSoup(response, 'html.parser')"
   ]
  },
  {
   "cell_type": "code",
   "execution_count": 5,
   "metadata": {
    "ExecuteTime": {
     "end_time": "2021-02-03T05:16:21.797422Z",
     "start_time": "2021-02-03T05:16:21.791306Z"
    }
   },
   "outputs": [],
   "source": [
    "lotto_list = []\n",
    "for num in html.select('span.num')[:6]:\n",
    "    lotto_list.append(num.text)"
   ]
  },
  {
   "cell_type": "code",
   "execution_count": 6,
   "metadata": {
    "ExecuteTime": {
     "end_time": "2021-02-03T05:16:25.483890Z",
     "start_time": "2021-02-03T05:16:25.474479Z"
    }
   },
   "outputs": [
    {
     "data": {
      "text/plain": [
       "['14', '21', '35', '36', '40', '44']"
      ]
     },
     "execution_count": 6,
     "metadata": {},
     "output_type": "execute_result"
    }
   ],
   "source": [
    "lotto_list"
   ]
  },
  {
   "cell_type": "markdown",
   "metadata": {},
   "source": [
    "# 다음에서 로또번호 가져와 볼께요 몽땅 다 가져옵니다"
   ]
  },
  {
   "cell_type": "code",
   "execution_count": 7,
   "metadata": {
    "ExecuteTime": {
     "end_time": "2021-02-03T06:04:20.163694Z",
     "start_time": "2021-02-03T06:04:20.161045Z"
    }
   },
   "outputs": [],
   "source": [
    "import time"
   ]
  },
  {
   "cell_type": "code",
   "execution_count": 8,
   "metadata": {
    "ExecuteTime": {
     "end_time": "2021-02-03T06:04:47.583649Z",
     "start_time": "2021-02-03T06:04:22.409788Z"
    }
   },
   "outputs": [
    {
     "name": "stdout",
     "output_type": "stream",
     "text": [
      "접속성공\n",
      "접속성공\n",
      "접속성공\n",
      "접속성공\n",
      "접속성공\n",
      "접속성공\n",
      "접속성공\n",
      "접속성공\n",
      "접속성공\n"
     ]
    }
   ],
   "source": [
    "total_lotto_list = []\n",
    "for i in range(1, 10):\n",
    "    \n",
    "    seed = np.random.randint(100)\n",
    "    np.random.seed(seed)\n",
    "    a = np.random.randint(5) # 난수가 생성 생성된 난수에 따라서 요청하는 시간 딜레이\n",
    "    time.sleep(a)\n",
    "    \n",
    "    lotto = []\n",
    "    url = f'https://search.daum.net/search?w=tot&DA=LOT&rtmaxcoll=LOT&&q={i}회차%20로또'\n",
    "    response = requests.get(url)\n",
    "    \n",
    "    if response.status_code == requests.codes.ok:\n",
    "        print('접속성공')\n",
    "        \n",
    "        html = BeautifulSoup(response.text, 'html.parser')\n",
    "        numbers = html.select('span.ball')[:6]\n",
    "        for num in numbers:\n",
    "            lotto.append(num.text)\n",
    "        total_lotto_list.append(lotto)\n",
    "        \n",
    "    else:\n",
    "        break"
   ]
  },
  {
   "cell_type": "code",
   "execution_count": 50,
   "metadata": {
    "ExecuteTime": {
     "end_time": "2021-02-03T05:41:05.583999Z",
     "start_time": "2021-02-03T05:41:05.579960Z"
    }
   },
   "outputs": [
    {
     "data": {
      "text/plain": [
       "200"
      ]
     },
     "execution_count": 50,
     "metadata": {},
     "output_type": "execute_result"
    }
   ],
   "source": [
    "requests.codes.ok\n",
    "# 100 우리 이런정보 내주는거야\n",
    "# 200 성공\n",
    "# 300 우리 이 사이트 이리루 이사했어 일루가\n",
    "# 400 유저가 요청을 잘못한경우\n",
    "# 500 서버 문제"
   ]
  },
  {
   "cell_type": "code",
   "execution_count": null,
   "metadata": {},
   "outputs": [],
   "source": [
    "# 차단막는 코드\n",
    "seed = np.random.randint(100)\n",
    "np.random.seed(seed)\n",
    "a = np.random.randint(5)"
   ]
  },
  {
   "cell_type": "markdown",
   "metadata": {},
   "source": [
    "# 네이버에 사용자로 부터 입력받는 검색어를 입력하고 나오는 결과값의 view(블로그) 페이지에 접근해서 블로그 제목 가져오기"
   ]
  },
  {
   "cell_type": "code",
   "execution_count": 76,
   "metadata": {
    "ExecuteTime": {
     "end_time": "2021-02-03T06:27:56.160704Z",
     "start_time": "2021-02-03T06:27:51.173813Z"
    }
   },
   "outputs": [
    {
     "name": "stdout",
     "output_type": "stream",
     "text": [
      "키워드를 입력하세요 :코로나\n",
      "접속성공\n",
      "코로나 19에 의한 뇌손상 기전을 밝히다 https://blog.naver.com/jjy0501/222194097167\n",
      "코로나19 후유증, 완치가 된 이후에도 신체에 남는다? https://blog.naver.com/dkdkpad/222200709126\n",
      "면역억제제를 복용하는 류마티스 환자가 코로나19에 감염된다면? - 류마티스내과 강은하 교수 https://blog.naver.com/happy_snubh/222181872058\n",
      "코로나 백신 우선순위, 접종 순서, 부작용 대처법 알아보기 https://blog.naver.com/junmin120/222225602381\n",
      "코로나 증상 치료제, 백신 대신 고춧대차?? https://blog.naver.com/youn547/222183298978\n",
      "코로나19 신약 개발을 둘러싼 궁금증 https://blog.naver.com/nhicblog/222159308889\n",
      "<安단테> 코로나19와 감기는 어떻게 구분하나요 https://blog.naver.com/koshablog/222140603442\n",
      "코로나19 가짜뉴스 팩트체크 및 울산 내 선별진료소 찾기 https://blog.naver.com/ulsan-namgu/222219086211\n",
      "코로나19 RNA 백신 맞아도 되나요? https://post.naver.com/viewer/postView.nhn?volumeNo=30279230&memberNo=3600238&vType=VERTICAL\n",
      "코로나 근손실, 막는방법! https://post.naver.com/viewer/postView.nhn?volumeNo=30277405&memberNo=45445147&vType=VERTICAL\n",
      "코로나가 유행할 때에는 해열제 사용을 가급적 피해야 한다 https://blog.naver.com/yimin3181/222154851295\n",
      "코로나 - 감기 바이러스 때문에 유전자 백신을 맞는다? https://blog.naver.com/hurkle97/222225492026\n",
      "ㅇㅈㅇㅅ코로나검사? https://cafe.naver.com/myomahealing/127856\n",
      "코로나 백신 우선순위, 접종 순서는 어떻게 될까? https://blog.naver.com/sinyu29/222224572106\n",
      "코로나19 팬데믹 이후 흑염소 가격 상승과 이유는 https://blog.naver.com/ecoonebg/222226831677\n",
      "코로나 증상 순서, 발현시기, 그리고 무증상 환자 https://blog.naver.com/nemjun/222197456656\n",
      "공황장애 극복일지 '나는 코로나한테 고마워했다' https://cafe.naver.com/lovefaithjkc/388525\n",
      "코로나19 백신오해와 진실 https://post.naver.com/viewer/postView.nhn?volumeNo=30183012&memberNo=23157417&vType=VERTICAL\n",
      "코로나백신(모더나) 과 얼굴필러, 염증반응 리포트 https://blog.naver.com/goodprofile/222186761191\n",
      "[서울대병원] 숫자로 보는 코로나19 1년 https://blog.naver.com/chsnuh/222214835324\n",
      "포스트 코로나 시대 2021년에도 코로나19의 공포 지속될까? https://post.naver.com/viewer/postView.nhn?volumeNo=30359784&memberNo=12158111&vType=VERTICAL\n",
      "2021년 코로나19 종식?! 코로나19 백신 접종의 모든 것 https://blog.naver.com/kescomiri/222211419005\n",
      "코로나바이러스감염증-19 대응 관련 브리핑(2021.2.2.화) https://blog.naver.com/daegu_news/222228642111\n",
      "소파술 전에 코로나검사 필수였나요? https://cafe.naver.com/imsanbu/54175942\n",
      "코로나19 <전 국민 무료예방접종> 접종시기 및 대상 안내 https://blog.naver.com/hellopolicy/222223192525\n",
      "정부, 11월 집단면역 형성 목표..9월까지 국민 70% 코로나19 백신 1차 접종 https://blog.naver.com/eunyo20/222219639862\n",
      "삼성서울병원-강북삼성병원, 코로나19 중증환자 전담치료병상 확대! https://blog.naver.com/ohhappysmc/222182840726\n",
      "코로나19 통합심리지원 안내 https://blog.naver.com/happyjejudo/222216225754\n",
      "코로나19가 바꿔 놓은 수능 풍경 https://blog.daum.net/nhicblog/4285\n",
      "왠지 우울하다면? 코로나 블루에 좋은 음식 BEST 5 https://blog.naver.com/nong-up/222219249414\n"
     ]
    }
   ],
   "source": [
    "key_word = input('키워드를 입력하세요 :')\n",
    "url = f'https://search.naver.com/search.naver?where=view&sm=tab_jum&query={key_word}'\n",
    "\n",
    "response = requests.get(url)\n",
    "\n",
    "if response.status_code == requests.codes.ok:\n",
    "    print('접속성공')\n",
    "\n",
    "html = BeautifulSoup(response.text, 'html.parser')\n",
    "\n",
    "titles = html.select('a.api_txt_lines')\n",
    "for title in titles:\n",
    "    print(title.text, title.attrs['href'])"
   ]
  },
  {
   "cell_type": "markdown",
   "metadata": {
    "id": "P_ssRYoV88a7",
    "slideshow": {
     "slide_type": "slide"
    }
   },
   "source": [
    "    가져온 데이터에 접근을 하는 방식 자체는 판다스 색인처럼 결과값을 확인하며 진행하는 것이 가장 좋습니다."
   ]
  },
  {
   "cell_type": "markdown",
   "metadata": {
    "id": "L--NnRPK9LAN",
    "slideshow": {
     "slide_type": "slide"
    }
   },
   "source": [
    "## **3. 네이버 키워드로 검색한 결과를 크롤링**"
   ]
  },
  {
   "cell_type": "markdown",
   "metadata": {
    "id": "XYhXePUPB7FF",
    "slideshow": {
     "slide_type": "slide"
    }
   },
   "source": [
    "## **4. 동적페이지 크롤링**\n",
    "    최근에는 Js로 변경이 되며 일반적인 크롤링이 되지 않는 경우가 많음\n",
    "    동적페이지와 숨겨진 url을 가져오는 방법을 알아봅니다"
   ]
  },
  {
   "cell_type": "markdown",
   "metadata": {
    "id": "GIvAIByBCAz1",
    "slideshow": {
     "slide_type": "slide"
    }
   },
   "source": [
    "### 네이버 데이터랩 인기검색어 크롤링"
   ]
  },
  {
   "cell_type": "code",
   "execution_count": 9,
   "metadata": {
    "ExecuteTime": {
     "end_time": "2021-02-03T06:56:59.572680Z",
     "start_time": "2021-02-03T06:56:59.504511Z"
    },
    "id": "uvafKGESAAEJ",
    "slideshow": {
     "slide_type": "subslide"
    }
   },
   "outputs": [
    {
     "data": {
      "text/plain": [
       "[{'message': None,\n",
       "  'statusCode': 200,\n",
       "  'returnCode': 0,\n",
       "  'date': '2021/01/28',\n",
       "  'datetime': '2021.01.28.(목)',\n",
       "  'range': '',\n",
       "  'ranks': [{'rank': 1, 'keyword': '원피스', 'linkId': '원피스'},\n",
       "   {'rank': 2, 'keyword': '트위드자켓', 'linkId': '트위드자켓'},\n",
       "   {'rank': 3, 'keyword': '여성숏패딩', 'linkId': '여성숏패딩'},\n",
       "   {'rank': 4, 'keyword': '반팔티', 'linkId': '반팔티'},\n",
       "   {'rank': 5, 'keyword': '핸드메이드코트', 'linkId': '핸드메이드코트'},\n",
       "   {'rank': 6, 'keyword': '팬츠', 'linkId': '팬츠'},\n",
       "   {'rank': 7, 'keyword': '잠옷', 'linkId': '잠옷'},\n",
       "   {'rank': 8, 'keyword': '쥬시쥬디', 'linkId': '쥬시쥬디'},\n",
       "   {'rank': 9, 'keyword': '숏패딩', 'linkId': '숏패딩'},\n",
       "   {'rank': 10, 'keyword': '여성경량패딩', 'linkId': '여성경량패딩'}]},\n",
       " {'message': None,\n",
       "  'statusCode': 200,\n",
       "  'returnCode': 0,\n",
       "  'date': '2021/01/29',\n",
       "  'datetime': '2021.01.29.(금)',\n",
       "  'range': '',\n",
       "  'ranks': [{'rank': 1, 'keyword': '원피스', 'linkId': '원피스'},\n",
       "   {'rank': 2, 'keyword': '트위드자켓', 'linkId': '트위드자켓'},\n",
       "   {'rank': 3, 'keyword': '반팔티', 'linkId': '반팔티'},\n",
       "   {'rank': 4, 'keyword': '여성숏패딩', 'linkId': '여성숏패딩'},\n",
       "   {'rank': 5, 'keyword': '잠옷', 'linkId': '잠옷'},\n",
       "   {'rank': 6, 'keyword': '핸드메이드코트', 'linkId': '핸드메이드코트'},\n",
       "   {'rank': 7, 'keyword': '롱패딩', 'linkId': '롱패딩'},\n",
       "   {'rank': 8, 'keyword': '여성트레이닝세트', 'linkId': '여성트레이닝세트'},\n",
       "   {'rank': 9, 'keyword': '쥬시쥬디', 'linkId': '쥬시쥬디'},\n",
       "   {'rank': 10, 'keyword': '몽클레어여성패딩', 'linkId': '몽클레어여성패딩'}]},\n",
       " {'message': None,\n",
       "  'statusCode': 200,\n",
       "  'returnCode': 0,\n",
       "  'date': '2021/01/30',\n",
       "  'datetime': '2021.01.30.(토)',\n",
       "  'range': '',\n",
       "  'ranks': [{'rank': 1, 'keyword': '원피스', 'linkId': '원피스'},\n",
       "   {'rank': 2, 'keyword': '트위드자켓', 'linkId': '트위드자켓'},\n",
       "   {'rank': 3, 'keyword': '여성숏패딩', 'linkId': '여성숏패딩'},\n",
       "   {'rank': 4, 'keyword': '핸드메이드코트', 'linkId': '핸드메이드코트'},\n",
       "   {'rank': 5, 'keyword': '잠옷', 'linkId': '잠옷'},\n",
       "   {'rank': 6, 'keyword': '쥬시쥬디', 'linkId': '쥬시쥬디'},\n",
       "   {'rank': 7, 'keyword': '코트', 'linkId': '코트'},\n",
       "   {'rank': 8, 'keyword': '롱패딩', 'linkId': '롱패딩'},\n",
       "   {'rank': 9, 'keyword': '여성트레이닝세트', 'linkId': '여성트레이닝세트'},\n",
       "   {'rank': 10, 'keyword': '몽클레어여성패딩', 'linkId': '몽클레어여성패딩'}]},\n",
       " {'message': None,\n",
       "  'statusCode': 200,\n",
       "  'returnCode': 0,\n",
       "  'date': '2021/01/31',\n",
       "  'datetime': '2021.01.31.(일)',\n",
       "  'range': '',\n",
       "  'ranks': [{'rank': 1, 'keyword': '원피스', 'linkId': '원피스'},\n",
       "   {'rank': 2, 'keyword': '트위드자켓', 'linkId': '트위드자켓'},\n",
       "   {'rank': 3, 'keyword': '여성숏패딩', 'linkId': '여성숏패딩'},\n",
       "   {'rank': 4, 'keyword': '핸드메이드코트', 'linkId': '핸드메이드코트'},\n",
       "   {'rank': 5, 'keyword': '잠옷', 'linkId': '잠옷'},\n",
       "   {'rank': 6, 'keyword': '반팔티', 'linkId': '반팔티'},\n",
       "   {'rank': 7, 'keyword': '여성트레이닝세트', 'linkId': '여성트레이닝세트'},\n",
       "   {'rank': 8, 'keyword': '여성경량패딩', 'linkId': '여성경량패딩'},\n",
       "   {'rank': 9, 'keyword': '코트', 'linkId': '코트'},\n",
       "   {'rank': 10, 'keyword': '숏패딩', 'linkId': '숏패딩'}]},\n",
       " {'message': None,\n",
       "  'statusCode': 200,\n",
       "  'returnCode': 0,\n",
       "  'date': '2021/02/01',\n",
       "  'datetime': '2021.02.01.(월)',\n",
       "  'range': '',\n",
       "  'ranks': [{'rank': 1, 'keyword': '원피스', 'linkId': '원피스'},\n",
       "   {'rank': 2, 'keyword': '트위드자켓', 'linkId': '트위드자켓'},\n",
       "   {'rank': 3, 'keyword': '핸드메이드코트', 'linkId': '핸드메이드코트'},\n",
       "   {'rank': 4, 'keyword': '잠옷', 'linkId': '잠옷'},\n",
       "   {'rank': 5, 'keyword': '여성숏패딩', 'linkId': '여성숏패딩'},\n",
       "   {'rank': 6, 'keyword': '여성트레이닝세트', 'linkId': '여성트레이닝세트'},\n",
       "   {'rank': 7, 'keyword': '여성경량패딩', 'linkId': '여성경량패딩'},\n",
       "   {'rank': 8, 'keyword': '맨투맨', 'linkId': '맨투맨'},\n",
       "   {'rank': 9, 'keyword': '나이키맨투맨', 'linkId': '나이키맨투맨'},\n",
       "   {'rank': 10, 'keyword': '커플잠옷', 'linkId': '커플잠옷'}]},\n",
       " {'message': None,\n",
       "  'statusCode': 200,\n",
       "  'returnCode': 0,\n",
       "  'date': '2021/02/02',\n",
       "  'datetime': '2021.02.02.(화)',\n",
       "  'range': '',\n",
       "  'ranks': [{'rank': 1, 'keyword': '원피스', 'linkId': '원피스'},\n",
       "   {'rank': 2, 'keyword': '트위드자켓', 'linkId': '트위드자켓'},\n",
       "   {'rank': 3, 'keyword': '잠옷', 'linkId': '잠옷'},\n",
       "   {'rank': 4, 'keyword': '반팔티', 'linkId': '반팔티'},\n",
       "   {'rank': 5, 'keyword': '핸드메이드코트', 'linkId': '핸드메이드코트'},\n",
       "   {'rank': 6, 'keyword': '여성트레이닝세트', 'linkId': '여성트레이닝세트'},\n",
       "   {'rank': 7, 'keyword': '여성숏패딩', 'linkId': '여성숏패딩'},\n",
       "   {'rank': 8, 'keyword': '커플잠옷', 'linkId': '커플잠옷'},\n",
       "   {'rank': 9, 'keyword': '숏패딩', 'linkId': '숏패딩'},\n",
       "   {'rank': 10, 'keyword': '나이키맨투맨', 'linkId': '나이키맨투맨'}]},\n",
       " {'message': None,\n",
       "  'statusCode': 200,\n",
       "  'returnCode': 0,\n",
       "  'date': '2021/02/03',\n",
       "  'datetime': '2021.02.03.(수)',\n",
       "  'range': '',\n",
       "  'ranks': [{'rank': 1, 'keyword': '원피스', 'linkId': '원피스'},\n",
       "   {'rank': 2, 'keyword': '트위드자켓', 'linkId': '트위드자켓'},\n",
       "   {'rank': 3, 'keyword': '반팔티', 'linkId': '반팔티'},\n",
       "   {'rank': 4, 'keyword': '잠옷', 'linkId': '잠옷'},\n",
       "   {'rank': 5, 'keyword': '핸드메이드코트', 'linkId': '핸드메이드코트'},\n",
       "   {'rank': 6, 'keyword': '여성숏패딩', 'linkId': '여성숏패딩'},\n",
       "   {'rank': 7, 'keyword': '여성트레이닝세트', 'linkId': '여성트레이닝세트'},\n",
       "   {'rank': 8, 'keyword': '쥬시쥬디', 'linkId': '쥬시쥬디'},\n",
       "   {'rank': 9, 'keyword': '맨투맨', 'linkId': '맨투맨'},\n",
       "   {'rank': 10, 'keyword': '롱원피스', 'linkId': '롱원피스'}]},\n",
       " {'message': None,\n",
       "  'statusCode': 200,\n",
       "  'returnCode': 0,\n",
       "  'date': '2021/02/04',\n",
       "  'datetime': '2021.02.04.(목)',\n",
       "  'range': '',\n",
       "  'ranks': [{'rank': 1, 'keyword': '원피스', 'linkId': '원피스'},\n",
       "   {'rank': 2, 'keyword': '트위드자켓', 'linkId': '트위드자켓'},\n",
       "   {'rank': 3, 'keyword': '잠옷', 'linkId': '잠옷'},\n",
       "   {'rank': 4, 'keyword': '팬츠', 'linkId': '팬츠'},\n",
       "   {'rank': 5, 'keyword': '쥬시쥬디', 'linkId': '쥬시쥬디'},\n",
       "   {'rank': 6, 'keyword': '핸드메이드코트', 'linkId': '핸드메이드코트'},\n",
       "   {'rank': 7, 'keyword': '여성숏패딩', 'linkId': '여성숏패딩'},\n",
       "   {'rank': 8, 'keyword': '여성트레이닝세트', 'linkId': '여성트레이닝세트'},\n",
       "   {'rank': 9, 'keyword': '나이키맨투맨', 'linkId': '나이키맨투맨'},\n",
       "   {'rank': 10, 'keyword': '커플잠옷', 'linkId': '커플잠옷'}]},\n",
       " {'message': None,\n",
       "  'statusCode': 200,\n",
       "  'returnCode': 0,\n",
       "  'date': '2021/02/05',\n",
       "  'datetime': '2021.02.05.(금)',\n",
       "  'range': '',\n",
       "  'ranks': [{'rank': 1, 'keyword': '원피스', 'linkId': '원피스'},\n",
       "   {'rank': 2, 'keyword': '트위드자켓', 'linkId': '트위드자켓'},\n",
       "   {'rank': 3, 'keyword': 'gk9m0tcw1', 'linkId': 'gk9m0tcw1'},\n",
       "   {'rank': 4, 'keyword': '팬츠', 'linkId': '팬츠'},\n",
       "   {'rank': 5, 'keyword': '쥬시쥬디', 'linkId': '쥬시쥬디'},\n",
       "   {'rank': 6, 'keyword': '핸드메이드코트', 'linkId': '핸드메이드코트'},\n",
       "   {'rank': 7, 'keyword': '잠옷', 'linkId': '잠옷'},\n",
       "   {'rank': 8, 'keyword': '여성숏패딩', 'linkId': '여성숏패딩'},\n",
       "   {'rank': 9, 'keyword': '여성경량패딩', 'linkId': '여성경량패딩'},\n",
       "   {'rank': 10, 'keyword': '코트', 'linkId': '코트'}]},\n",
       " {'message': None,\n",
       "  'statusCode': 200,\n",
       "  'returnCode': 0,\n",
       "  'date': '2021/02/06',\n",
       "  'datetime': '2021.02.06.(토)',\n",
       "  'range': '',\n",
       "  'ranks': [{'rank': 1, 'keyword': '원피스', 'linkId': '원피스'},\n",
       "   {'rank': 2, 'keyword': '트위드자켓', 'linkId': '트위드자켓'},\n",
       "   {'rank': 3, 'keyword': '쥬시쥬디', 'linkId': '쥬시쥬디'},\n",
       "   {'rank': 4, 'keyword': '핸드메이드코트', 'linkId': '핸드메이드코트'},\n",
       "   {'rank': 5, 'keyword': '여성경량패딩', 'linkId': '여성경량패딩'},\n",
       "   {'rank': 6, 'keyword': '잠옷', 'linkId': '잠옷'},\n",
       "   {'rank': 7, 'keyword': '블라우스', 'linkId': '블라우스'},\n",
       "   {'rank': 8, 'keyword': '여성숏패딩', 'linkId': '여성숏패딩'},\n",
       "   {'rank': 9, 'keyword': '써스데이아일랜드원피스', 'linkId': '써스데이아일랜드원피스'},\n",
       "   {'rank': 10, 'keyword': '코트', 'linkId': '코트'}]},\n",
       " {'message': None,\n",
       "  'statusCode': 200,\n",
       "  'returnCode': 0,\n",
       "  'date': '2021/02/07',\n",
       "  'datetime': '2021.02.07.(일)',\n",
       "  'range': '',\n",
       "  'ranks': [{'rank': 1, 'keyword': '원피스', 'linkId': '원피스'},\n",
       "   {'rank': 2, 'keyword': '트위드자켓', 'linkId': '트위드자켓'},\n",
       "   {'rank': 3, 'keyword': '핸드메이드코트', 'linkId': '핸드메이드코트'},\n",
       "   {'rank': 4, 'keyword': '쥬시쥬디', 'linkId': '쥬시쥬디'},\n",
       "   {'rank': 5, 'keyword': '잠옷', 'linkId': '잠옷'},\n",
       "   {'rank': 6, 'keyword': '여성경량패딩', 'linkId': '여성경량패딩'},\n",
       "   {'rank': 7, 'keyword': '여성트레이닝세트', 'linkId': '여성트레이닝세트'},\n",
       "   {'rank': 8, 'keyword': '여성숏패딩', 'linkId': '여성숏패딩'},\n",
       "   {'rank': 9, 'keyword': '코트', 'linkId': '코트'},\n",
       "   {'rank': 10, 'keyword': '블라우스', 'linkId': '블라우스'}]},\n",
       " {'message': None,\n",
       "  'statusCode': 200,\n",
       "  'returnCode': 0,\n",
       "  'date': '2021/02/08',\n",
       "  'datetime': '2021.02.08.(월)',\n",
       "  'range': '',\n",
       "  'ranks': [{'rank': 1, 'keyword': '원피스', 'linkId': '원피스'},\n",
       "   {'rank': 2, 'keyword': '트위드자켓', 'linkId': '트위드자켓'},\n",
       "   {'rank': 3, 'keyword': '핸드메이드코트', 'linkId': '핸드메이드코트'},\n",
       "   {'rank': 4, 'keyword': '쥬시쥬디', 'linkId': '쥬시쥬디'},\n",
       "   {'rank': 5, 'keyword': '반팔티', 'linkId': '반팔티'},\n",
       "   {'rank': 6, 'keyword': '팬츠', 'linkId': '팬츠'},\n",
       "   {'rank': 7, 'keyword': '잠옷', 'linkId': '잠옷'},\n",
       "   {'rank': 8, 'keyword': '여성숏패딩', 'linkId': '여성숏패딩'},\n",
       "   {'rank': 9, 'keyword': '나이키맨투맨', 'linkId': '나이키맨투맨'},\n",
       "   {'rank': 10, 'keyword': '여성경량패딩', 'linkId': '여성경량패딩'}]}]"
      ]
     },
     "execution_count": 9,
     "metadata": {},
     "output_type": "execute_result"
    }
   ],
   "source": [
    "import json\n",
    "\n",
    "# 카테고리 데이터 가져오기\n",
    "url = 'https://datalab.naver.com/shoppingInsight/getKeywordRank.naver?timeUnit=date&cid=50000000'\n",
    "\n",
    "# 헤더정보 필요\n",
    "header = {\n",
    "    'user-agent': 'Mozilla/5.0 (Macintosh; Intel Mac OS X 10_13_6) AppleWebKit/537.36 (KHTML, like Gecko) Chrome/88.0.4324.96 Safari/537.36',\n",
    "    'referer': 'https://datalab.naver.com/'\n",
    "}\n",
    "\n",
    "response = requests.post(url, headers=header)\n",
    "data = json.loads(response.text)\n",
    "data"
   ]
  },
  {
   "cell_type": "markdown",
   "metadata": {
    "id": "N3NtfdJNMWM6",
    "slideshow": {
     "slide_type": "slide"
    }
   },
   "source": [
    "### 다음 주식 일자별 주가 데이터 크롤링"
   ]
  },
  {
   "cell_type": "code",
   "execution_count": 10,
   "metadata": {
    "ExecuteTime": {
     "end_time": "2021-02-03T07:24:14.345102Z",
     "start_time": "2021-02-03T07:24:14.262761Z"
    },
    "id": "9txT7yVwMehO"
   },
   "outputs": [
    {
     "data": {
      "text/plain": [
       "{'data': [{'symbolCode': 'A285130',\n",
       "   'date': '2021-01-26 15:30:19',\n",
       "   'tradePrice': 439500.0,\n",
       "   'tradeTime': '15:30:19',\n",
       "   'change': 'RISE',\n",
       "   'changePrice': 25500.0,\n",
       "   'changeRate': 0.0615942029,\n",
       "   'prevClosingPrice': 414000.0,\n",
       "   'exchangeCountry': 'KOREA',\n",
       "   'openingPrice': 424500.0,\n",
       "   'highPrice': 449500.0,\n",
       "   'lowPrice': 420000.0,\n",
       "   'accTradePrice': 394031245000,\n",
       "   'accTradeVolume': 899309,\n",
       "   'periodTradePrice': 394031245000,\n",
       "   'periodTradeVolume': 899309,\n",
       "   'listedSharesCount': None},\n",
       "  {'symbolCode': 'A285130',\n",
       "   'date': '2021-01-25 15:30:23',\n",
       "   'tradePrice': 414000.0,\n",
       "   'tradeTime': '15:30:23',\n",
       "   'change': 'RISE',\n",
       "   'changePrice': 3500.0,\n",
       "   'changeRate': 0.0085261876,\n",
       "   'prevClosingPrice': 410500.0,\n",
       "   'exchangeCountry': 'KOREA',\n",
       "   'openingPrice': 419000.0,\n",
       "   'highPrice': 426500.0,\n",
       "   'lowPrice': 412500.0,\n",
       "   'accTradePrice': 101518295000,\n",
       "   'accTradeVolume': 242575,\n",
       "   'periodTradePrice': 101518295000,\n",
       "   'periodTradeVolume': 242575,\n",
       "   'listedSharesCount': None},\n",
       "  {'symbolCode': 'A285130',\n",
       "   'date': '2021-01-22 15:30:18',\n",
       "   'tradePrice': 410500.0,\n",
       "   'tradeTime': '15:30:18',\n",
       "   'change': 'FALL',\n",
       "   'changePrice': 8500.0,\n",
       "   'changeRate': -0.0202863962,\n",
       "   'prevClosingPrice': 419000.0,\n",
       "   'exchangeCountry': 'KOREA',\n",
       "   'openingPrice': 424500.0,\n",
       "   'highPrice': 429000.0,\n",
       "   'lowPrice': 407000.0,\n",
       "   'accTradePrice': 159263501000,\n",
       "   'accTradeVolume': 381592,\n",
       "   'periodTradePrice': 159263501000,\n",
       "   'periodTradeVolume': 381592,\n",
       "   'listedSharesCount': None},\n",
       "  {'symbolCode': 'A285130',\n",
       "   'date': '2021-01-21 15:30:17',\n",
       "   'tradePrice': 419000.0,\n",
       "   'tradeTime': '15:30:17',\n",
       "   'change': 'RISE',\n",
       "   'changePrice': 24500.0,\n",
       "   'changeRate': 0.062103929,\n",
       "   'prevClosingPrice': 394500.0,\n",
       "   'exchangeCountry': 'KOREA',\n",
       "   'openingPrice': 412000.0,\n",
       "   'highPrice': 422500.0,\n",
       "   'lowPrice': 399500.0,\n",
       "   'accTradePrice': 366949044500,\n",
       "   'accTradeVolume': 888682,\n",
       "   'periodTradePrice': 366949044500,\n",
       "   'periodTradeVolume': 888682,\n",
       "   'listedSharesCount': None},\n",
       "  {'symbolCode': 'A285130',\n",
       "   'date': '2021-01-20 15:30:05',\n",
       "   'tradePrice': 394500.0,\n",
       "   'tradeTime': '15:30:05',\n",
       "   'change': 'RISE',\n",
       "   'changePrice': 2500.0,\n",
       "   'changeRate': 0.006377551,\n",
       "   'prevClosingPrice': 392000.0,\n",
       "   'exchangeCountry': 'KOREA',\n",
       "   'openingPrice': 398000.0,\n",
       "   'highPrice': 405000.0,\n",
       "   'lowPrice': 375500.0,\n",
       "   'accTradePrice': 315552795000,\n",
       "   'accTradeVolume': 800421,\n",
       "   'periodTradePrice': 315552795000,\n",
       "   'periodTradeVolume': 800421,\n",
       "   'listedSharesCount': None},\n",
       "  {'symbolCode': 'A285130',\n",
       "   'date': '2021-01-19 15:30:11',\n",
       "   'tradePrice': 392000.0,\n",
       "   'tradeTime': '15:30:11',\n",
       "   'change': 'RISE',\n",
       "   'changePrice': 16000.0,\n",
       "   'changeRate': 0.0425531915,\n",
       "   'prevClosingPrice': 376000.0,\n",
       "   'exchangeCountry': 'KOREA',\n",
       "   'openingPrice': 382000.0,\n",
       "   'highPrice': 393500.0,\n",
       "   'lowPrice': 368500.0,\n",
       "   'accTradePrice': 160695133500,\n",
       "   'accTradeVolume': 417839,\n",
       "   'periodTradePrice': 160695133500,\n",
       "   'periodTradeVolume': 417839,\n",
       "   'listedSharesCount': None},\n",
       "  {'symbolCode': 'A285130',\n",
       "   'date': '2021-01-18 15:30:29',\n",
       "   'tradePrice': 376000.0,\n",
       "   'tradeTime': '15:30:29',\n",
       "   'change': 'RISE',\n",
       "   'changePrice': 26500.0,\n",
       "   'changeRate': 0.0758226037,\n",
       "   'prevClosingPrice': 349500.0,\n",
       "   'exchangeCountry': 'KOREA',\n",
       "   'openingPrice': 353500.0,\n",
       "   'highPrice': 378000.0,\n",
       "   'lowPrice': 352000.0,\n",
       "   'accTradePrice': 158281906000,\n",
       "   'accTradeVolume': 427722,\n",
       "   'periodTradePrice': 158281906000,\n",
       "   'periodTradeVolume': 427722,\n",
       "   'listedSharesCount': None},\n",
       "  {'symbolCode': 'A285130',\n",
       "   'date': '2021-01-15 15:30:01',\n",
       "   'tradePrice': 349500.0,\n",
       "   'tradeTime': '15:30:01',\n",
       "   'change': 'FALL',\n",
       "   'changePrice': 6500.0,\n",
       "   'changeRate': -0.018258427,\n",
       "   'prevClosingPrice': 356000.0,\n",
       "   'exchangeCountry': 'KOREA',\n",
       "   'openingPrice': 356000.0,\n",
       "   'highPrice': 362500.0,\n",
       "   'lowPrice': 346500.0,\n",
       "   'accTradePrice': 69139015000,\n",
       "   'accTradeVolume': 196217,\n",
       "   'periodTradePrice': 69139015000,\n",
       "   'periodTradeVolume': 196217,\n",
       "   'listedSharesCount': None},\n",
       "  {'symbolCode': 'A285130',\n",
       "   'date': '2021-01-14 15:30:10',\n",
       "   'tradePrice': 356000.0,\n",
       "   'tradeTime': '15:30:10',\n",
       "   'change': 'FALL',\n",
       "   'changePrice': 5000.0,\n",
       "   'changeRate': -0.0138504155,\n",
       "   'prevClosingPrice': 361000.0,\n",
       "   'exchangeCountry': 'KOREA',\n",
       "   'openingPrice': 359000.0,\n",
       "   'highPrice': 363000.0,\n",
       "   'lowPrice': 352000.0,\n",
       "   'accTradePrice': 51734129500,\n",
       "   'accTradeVolume': 145147,\n",
       "   'periodTradePrice': 51734129500,\n",
       "   'periodTradeVolume': 145147,\n",
       "   'listedSharesCount': None},\n",
       "  {'symbolCode': 'A285130',\n",
       "   'date': '2021-01-13 15:30:10',\n",
       "   'tradePrice': 361000.0,\n",
       "   'tradeTime': '15:30:10',\n",
       "   'change': 'RISE',\n",
       "   'changePrice': 1000.0,\n",
       "   'changeRate': 0.0027777778,\n",
       "   'prevClosingPrice': 360000.0,\n",
       "   'exchangeCountry': 'KOREA',\n",
       "   'openingPrice': 365500.0,\n",
       "   'highPrice': 370000.0,\n",
       "   'lowPrice': 361000.0,\n",
       "   'accTradePrice': 43103611500,\n",
       "   'accTradeVolume': 118455,\n",
       "   'periodTradePrice': 43103611500,\n",
       "   'periodTradeVolume': 118455,\n",
       "   'listedSharesCount': None}],\n",
       " 'totalPages': 77,\n",
       " 'currentPage': 2,\n",
       " 'pageSize': 10}"
      ]
     },
     "execution_count": 10,
     "metadata": {},
     "output_type": "execute_result"
    }
   ],
   "source": [
    "url = 'https://finance.daum.net/api/quote/A285130/days?symbolCode=A285130&page=2&perPage=10&pagination=true'\n",
    "\n",
    "header = {\n",
    "    'Referer':'https://finance.daum.net/quotes/A285130?period=day',\n",
    "    'User-Agent':'Mozilla/5.0 (Macintosh; Intel Mac OS X 10_13_6) AppleWebKit/537.36 (KHTML, like Gecko) Chrome/88.0.4324.96 Safari/537.36'\n",
    "}\n",
    "\n",
    "response = requests.get(url, headers=header)\n",
    "data = json.loads(response.text)\n",
    "data"
   ]
  },
  {
   "cell_type": "code",
   "execution_count": 11,
   "metadata": {
    "ExecuteTime": {
     "end_time": "2021-02-03T07:38:12.217428Z",
     "start_time": "2021-02-03T07:38:12.213068Z"
    }
   },
   "outputs": [],
   "source": [
    "from pandas.io.json import json_normalize"
   ]
  },
  {
   "cell_type": "code",
   "execution_count": 19,
   "metadata": {
    "ExecuteTime": {
     "end_time": "2021-02-03T07:38:37.954755Z",
     "start_time": "2021-02-03T07:38:37.946225Z"
    }
   },
   "outputs": [],
   "source": [
    "df = pd.DataFrame(data['data'])"
   ]
  },
  {
   "cell_type": "code",
   "execution_count": 13,
   "metadata": {
    "ExecuteTime": {
     "end_time": "2021-02-03T07:38:42.429369Z",
     "start_time": "2021-02-03T07:38:42.400753Z"
    }
   },
   "outputs": [
    {
     "data": {
      "text/html": [
       "<div>\n",
       "<style scoped>\n",
       "    .dataframe tbody tr th:only-of-type {\n",
       "        vertical-align: middle;\n",
       "    }\n",
       "\n",
       "    .dataframe tbody tr th {\n",
       "        vertical-align: top;\n",
       "    }\n",
       "\n",
       "    .dataframe thead th {\n",
       "        text-align: right;\n",
       "    }\n",
       "</style>\n",
       "<table border=\"1\" class=\"dataframe\">\n",
       "  <thead>\n",
       "    <tr style=\"text-align: right;\">\n",
       "      <th></th>\n",
       "      <th>symbolCode</th>\n",
       "      <th>date</th>\n",
       "      <th>tradePrice</th>\n",
       "      <th>tradeTime</th>\n",
       "      <th>change</th>\n",
       "      <th>changePrice</th>\n",
       "      <th>changeRate</th>\n",
       "      <th>prevClosingPrice</th>\n",
       "      <th>exchangeCountry</th>\n",
       "      <th>openingPrice</th>\n",
       "      <th>highPrice</th>\n",
       "      <th>lowPrice</th>\n",
       "      <th>accTradePrice</th>\n",
       "      <th>accTradeVolume</th>\n",
       "      <th>periodTradePrice</th>\n",
       "      <th>periodTradeVolume</th>\n",
       "      <th>listedSharesCount</th>\n",
       "    </tr>\n",
       "  </thead>\n",
       "  <tbody>\n",
       "    <tr>\n",
       "      <th>0</th>\n",
       "      <td>A285130</td>\n",
       "      <td>2021-01-26 15:30:19</td>\n",
       "      <td>439500.0</td>\n",
       "      <td>15:30:19</td>\n",
       "      <td>RISE</td>\n",
       "      <td>25500.0</td>\n",
       "      <td>0.061594</td>\n",
       "      <td>414000.0</td>\n",
       "      <td>KOREA</td>\n",
       "      <td>424500.0</td>\n",
       "      <td>449500.0</td>\n",
       "      <td>420000.0</td>\n",
       "      <td>394031245000</td>\n",
       "      <td>899309</td>\n",
       "      <td>394031245000</td>\n",
       "      <td>899309</td>\n",
       "      <td>None</td>\n",
       "    </tr>\n",
       "    <tr>\n",
       "      <th>1</th>\n",
       "      <td>A285130</td>\n",
       "      <td>2021-01-25 15:30:23</td>\n",
       "      <td>414000.0</td>\n",
       "      <td>15:30:23</td>\n",
       "      <td>RISE</td>\n",
       "      <td>3500.0</td>\n",
       "      <td>0.008526</td>\n",
       "      <td>410500.0</td>\n",
       "      <td>KOREA</td>\n",
       "      <td>419000.0</td>\n",
       "      <td>426500.0</td>\n",
       "      <td>412500.0</td>\n",
       "      <td>101518295000</td>\n",
       "      <td>242575</td>\n",
       "      <td>101518295000</td>\n",
       "      <td>242575</td>\n",
       "      <td>None</td>\n",
       "    </tr>\n",
       "    <tr>\n",
       "      <th>2</th>\n",
       "      <td>A285130</td>\n",
       "      <td>2021-01-22 15:30:18</td>\n",
       "      <td>410500.0</td>\n",
       "      <td>15:30:18</td>\n",
       "      <td>FALL</td>\n",
       "      <td>8500.0</td>\n",
       "      <td>-0.020286</td>\n",
       "      <td>419000.0</td>\n",
       "      <td>KOREA</td>\n",
       "      <td>424500.0</td>\n",
       "      <td>429000.0</td>\n",
       "      <td>407000.0</td>\n",
       "      <td>159263501000</td>\n",
       "      <td>381592</td>\n",
       "      <td>159263501000</td>\n",
       "      <td>381592</td>\n",
       "      <td>None</td>\n",
       "    </tr>\n",
       "    <tr>\n",
       "      <th>3</th>\n",
       "      <td>A285130</td>\n",
       "      <td>2021-01-21 15:30:17</td>\n",
       "      <td>419000.0</td>\n",
       "      <td>15:30:17</td>\n",
       "      <td>RISE</td>\n",
       "      <td>24500.0</td>\n",
       "      <td>0.062104</td>\n",
       "      <td>394500.0</td>\n",
       "      <td>KOREA</td>\n",
       "      <td>412000.0</td>\n",
       "      <td>422500.0</td>\n",
       "      <td>399500.0</td>\n",
       "      <td>366949044500</td>\n",
       "      <td>888682</td>\n",
       "      <td>366949044500</td>\n",
       "      <td>888682</td>\n",
       "      <td>None</td>\n",
       "    </tr>\n",
       "    <tr>\n",
       "      <th>4</th>\n",
       "      <td>A285130</td>\n",
       "      <td>2021-01-20 15:30:05</td>\n",
       "      <td>394500.0</td>\n",
       "      <td>15:30:05</td>\n",
       "      <td>RISE</td>\n",
       "      <td>2500.0</td>\n",
       "      <td>0.006378</td>\n",
       "      <td>392000.0</td>\n",
       "      <td>KOREA</td>\n",
       "      <td>398000.0</td>\n",
       "      <td>405000.0</td>\n",
       "      <td>375500.0</td>\n",
       "      <td>315552795000</td>\n",
       "      <td>800421</td>\n",
       "      <td>315552795000</td>\n",
       "      <td>800421</td>\n",
       "      <td>None</td>\n",
       "    </tr>\n",
       "    <tr>\n",
       "      <th>5</th>\n",
       "      <td>A285130</td>\n",
       "      <td>2021-01-19 15:30:11</td>\n",
       "      <td>392000.0</td>\n",
       "      <td>15:30:11</td>\n",
       "      <td>RISE</td>\n",
       "      <td>16000.0</td>\n",
       "      <td>0.042553</td>\n",
       "      <td>376000.0</td>\n",
       "      <td>KOREA</td>\n",
       "      <td>382000.0</td>\n",
       "      <td>393500.0</td>\n",
       "      <td>368500.0</td>\n",
       "      <td>160695133500</td>\n",
       "      <td>417839</td>\n",
       "      <td>160695133500</td>\n",
       "      <td>417839</td>\n",
       "      <td>None</td>\n",
       "    </tr>\n",
       "    <tr>\n",
       "      <th>6</th>\n",
       "      <td>A285130</td>\n",
       "      <td>2021-01-18 15:30:29</td>\n",
       "      <td>376000.0</td>\n",
       "      <td>15:30:29</td>\n",
       "      <td>RISE</td>\n",
       "      <td>26500.0</td>\n",
       "      <td>0.075823</td>\n",
       "      <td>349500.0</td>\n",
       "      <td>KOREA</td>\n",
       "      <td>353500.0</td>\n",
       "      <td>378000.0</td>\n",
       "      <td>352000.0</td>\n",
       "      <td>158281906000</td>\n",
       "      <td>427722</td>\n",
       "      <td>158281906000</td>\n",
       "      <td>427722</td>\n",
       "      <td>None</td>\n",
       "    </tr>\n",
       "    <tr>\n",
       "      <th>7</th>\n",
       "      <td>A285130</td>\n",
       "      <td>2021-01-15 15:30:01</td>\n",
       "      <td>349500.0</td>\n",
       "      <td>15:30:01</td>\n",
       "      <td>FALL</td>\n",
       "      <td>6500.0</td>\n",
       "      <td>-0.018258</td>\n",
       "      <td>356000.0</td>\n",
       "      <td>KOREA</td>\n",
       "      <td>356000.0</td>\n",
       "      <td>362500.0</td>\n",
       "      <td>346500.0</td>\n",
       "      <td>69139015000</td>\n",
       "      <td>196217</td>\n",
       "      <td>69139015000</td>\n",
       "      <td>196217</td>\n",
       "      <td>None</td>\n",
       "    </tr>\n",
       "    <tr>\n",
       "      <th>8</th>\n",
       "      <td>A285130</td>\n",
       "      <td>2021-01-14 15:30:10</td>\n",
       "      <td>356000.0</td>\n",
       "      <td>15:30:10</td>\n",
       "      <td>FALL</td>\n",
       "      <td>5000.0</td>\n",
       "      <td>-0.013850</td>\n",
       "      <td>361000.0</td>\n",
       "      <td>KOREA</td>\n",
       "      <td>359000.0</td>\n",
       "      <td>363000.0</td>\n",
       "      <td>352000.0</td>\n",
       "      <td>51734129500</td>\n",
       "      <td>145147</td>\n",
       "      <td>51734129500</td>\n",
       "      <td>145147</td>\n",
       "      <td>None</td>\n",
       "    </tr>\n",
       "    <tr>\n",
       "      <th>9</th>\n",
       "      <td>A285130</td>\n",
       "      <td>2021-01-13 15:30:10</td>\n",
       "      <td>361000.0</td>\n",
       "      <td>15:30:10</td>\n",
       "      <td>RISE</td>\n",
       "      <td>1000.0</td>\n",
       "      <td>0.002778</td>\n",
       "      <td>360000.0</td>\n",
       "      <td>KOREA</td>\n",
       "      <td>365500.0</td>\n",
       "      <td>370000.0</td>\n",
       "      <td>361000.0</td>\n",
       "      <td>43103611500</td>\n",
       "      <td>118455</td>\n",
       "      <td>43103611500</td>\n",
       "      <td>118455</td>\n",
       "      <td>None</td>\n",
       "    </tr>\n",
       "  </tbody>\n",
       "</table>\n",
       "</div>"
      ],
      "text/plain": [
       "  symbolCode                 date  tradePrice tradeTime change  changePrice  \\\n",
       "0    A285130  2021-01-26 15:30:19    439500.0  15:30:19   RISE      25500.0   \n",
       "1    A285130  2021-01-25 15:30:23    414000.0  15:30:23   RISE       3500.0   \n",
       "2    A285130  2021-01-22 15:30:18    410500.0  15:30:18   FALL       8500.0   \n",
       "3    A285130  2021-01-21 15:30:17    419000.0  15:30:17   RISE      24500.0   \n",
       "4    A285130  2021-01-20 15:30:05    394500.0  15:30:05   RISE       2500.0   \n",
       "5    A285130  2021-01-19 15:30:11    392000.0  15:30:11   RISE      16000.0   \n",
       "6    A285130  2021-01-18 15:30:29    376000.0  15:30:29   RISE      26500.0   \n",
       "7    A285130  2021-01-15 15:30:01    349500.0  15:30:01   FALL       6500.0   \n",
       "8    A285130  2021-01-14 15:30:10    356000.0  15:30:10   FALL       5000.0   \n",
       "9    A285130  2021-01-13 15:30:10    361000.0  15:30:10   RISE       1000.0   \n",
       "\n",
       "   changeRate  prevClosingPrice exchangeCountry  openingPrice  highPrice  \\\n",
       "0    0.061594          414000.0           KOREA      424500.0   449500.0   \n",
       "1    0.008526          410500.0           KOREA      419000.0   426500.0   \n",
       "2   -0.020286          419000.0           KOREA      424500.0   429000.0   \n",
       "3    0.062104          394500.0           KOREA      412000.0   422500.0   \n",
       "4    0.006378          392000.0           KOREA      398000.0   405000.0   \n",
       "5    0.042553          376000.0           KOREA      382000.0   393500.0   \n",
       "6    0.075823          349500.0           KOREA      353500.0   378000.0   \n",
       "7   -0.018258          356000.0           KOREA      356000.0   362500.0   \n",
       "8   -0.013850          361000.0           KOREA      359000.0   363000.0   \n",
       "9    0.002778          360000.0           KOREA      365500.0   370000.0   \n",
       "\n",
       "   lowPrice  accTradePrice  accTradeVolume  periodTradePrice  \\\n",
       "0  420000.0   394031245000          899309      394031245000   \n",
       "1  412500.0   101518295000          242575      101518295000   \n",
       "2  407000.0   159263501000          381592      159263501000   \n",
       "3  399500.0   366949044500          888682      366949044500   \n",
       "4  375500.0   315552795000          800421      315552795000   \n",
       "5  368500.0   160695133500          417839      160695133500   \n",
       "6  352000.0   158281906000          427722      158281906000   \n",
       "7  346500.0    69139015000          196217       69139015000   \n",
       "8  352000.0    51734129500          145147       51734129500   \n",
       "9  361000.0    43103611500          118455       43103611500   \n",
       "\n",
       "   periodTradeVolume listedSharesCount  \n",
       "0             899309              None  \n",
       "1             242575              None  \n",
       "2             381592              None  \n",
       "3             888682              None  \n",
       "4             800421              None  \n",
       "5             417839              None  \n",
       "6             427722              None  \n",
       "7             196217              None  \n",
       "8             145147              None  \n",
       "9             118455              None  "
      ]
     },
     "execution_count": 13,
     "metadata": {},
     "output_type": "execute_result"
    }
   ],
   "source": [
    "df"
   ]
  },
  {
   "cell_type": "markdown",
   "metadata": {},
   "source": [
    "### 네이버 주식 삼성전자 일자별 주가 데이터 크롤링 1페이지 부터 10페이지 까지"
   ]
  },
  {
   "cell_type": "code",
   "execution_count": 14,
   "metadata": {
    "ExecuteTime": {
     "end_time": "2021-02-03T07:31:19.972368Z",
     "start_time": "2021-02-03T07:31:19.968722Z"
    }
   },
   "outputs": [],
   "source": [
    "url = 'https://finance.naver.com/item/sise_day.nhn?code=005930&page=1'\n",
    "\n",
    "header = {\n",
    "    'referer' : 'https://finance.naver.com/item/sise_day.nhn?code=005930&page=2',\n",
    "    'user-agent' : 'Mozilla/5.0 (Macintosh; Intel Mac OS X 10_13_6) AppleWebKit/537.36 (KHTML, like Gecko) Chrome/88.0.4324.96 Safari/537.36'\n",
    "}"
   ]
  },
  {
   "cell_type": "code",
   "execution_count": 15,
   "metadata": {
    "ExecuteTime": {
     "end_time": "2021-02-03T07:31:34.472888Z",
     "start_time": "2021-02-03T07:31:34.406360Z"
    }
   },
   "outputs": [],
   "source": [
    "response = requests.get(url, headers=header)"
   ]
  },
  {
   "cell_type": "code",
   "execution_count": 16,
   "metadata": {
    "ExecuteTime": {
     "end_time": "2021-02-03T07:32:40.422469Z",
     "start_time": "2021-02-03T07:32:40.405857Z"
    }
   },
   "outputs": [],
   "source": [
    "html = BeautifulSoup(response.text, 'html.parser')"
   ]
  },
  {
   "cell_type": "code",
   "execution_count": 17,
   "metadata": {
    "ExecuteTime": {
     "end_time": "2021-02-03T07:36:39.313494Z",
     "start_time": "2021-02-03T07:36:39.308609Z"
    }
   },
   "outputs": [
    {
     "name": "stdout",
     "output_type": "stream",
     "text": [
      "2021.02.09\n",
      "2021.02.08\n",
      "2021.02.05\n",
      "2021.02.04\n",
      "2021.02.03\n",
      "2021.02.02\n",
      "2021.02.01\n",
      "2021.01.29\n",
      "2021.01.28\n",
      "2021.01.27\n"
     ]
    }
   ],
   "source": [
    "for i in html.select('span.p10'):\n",
    "    print(i.text)"
   ]
  },
  {
   "cell_type": "code",
   "execution_count": 127,
   "metadata": {
    "ExecuteTime": {
     "end_time": "2021-02-03T07:33:15.609910Z",
     "start_time": "2021-02-03T07:33:15.605703Z"
    }
   },
   "outputs": [
    {
     "data": {
      "text/plain": [
       "[<th>날짜</th>,\n",
       " <th>종가</th>,\n",
       " <th>전일비</th>,\n",
       " <th>시가</th>,\n",
       " <th>고가</th>,\n",
       " <th>저가</th>,\n",
       " <th>거래량</th>]"
      ]
     },
     "execution_count": 127,
     "metadata": {},
     "output_type": "execute_result"
    }
   ],
   "source": [
    "html.select('th')"
   ]
  }
 ],
 "metadata": {
  "celltoolbar": "Slideshow",
  "colab": {
   "authorship_tag": "ABX9TyMM9bcGMQdkO/nwIX0kAuhm",
   "collapsed_sections": [],
   "name": "08_crawler.ipynb",
   "provenance": []
  },
  "kernelspec": {
   "display_name": "Python 3",
   "language": "python",
   "name": "python3"
  },
  "language_info": {
   "codemirror_mode": {
    "name": "ipython",
    "version": 3
   },
   "file_extension": ".py",
   "mimetype": "text/x-python",
   "name": "python",
   "nbconvert_exporter": "python",
   "pygments_lexer": "ipython3",
   "version": "3.8.5"
  },
  "toc": {
   "base_numbering": 1,
   "nav_menu": {},
   "number_sections": true,
   "sideBar": true,
   "skip_h1_title": true,
   "title_cell": "Table of Contents",
   "title_sidebar": "Contents",
   "toc_cell": false,
   "toc_position": {},
   "toc_section_display": true,
   "toc_window_display": false
  }
 },
 "nbformat": 4,
 "nbformat_minor": 1
}
